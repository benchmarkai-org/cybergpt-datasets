{
 "cells": [
  {
   "cell_type": "markdown",
   "id": "7e32c812-9ee4-4e93-908e-538019afde78",
   "metadata": {},
   "source": [
    "# User Clustering using Embeddings (Hierarchical) [WIP]\n",
    "\n",
    "**Date:**\n",
    "\n",
    "**Dataset:** German Web Tracking"
   ]
  },
  {
   "cell_type": "code",
   "execution_count": 1,
   "id": "3253c4a1-a72e-4e16-8f43-a35a267b7630",
   "metadata": {},
   "outputs": [],
   "source": [
    "import sys\n",
    "import os\n",
    "\n",
    "sys.path.append(os.path.abspath(\"../\"))"
   ]
  },
  {
   "cell_type": "code",
   "execution_count": 2,
   "id": "50deccf9-704e-467a-90d6-63320c06181c",
   "metadata": {},
   "outputs": [],
   "source": [
    "import pickle\n",
    "import numpy as np\n",
    "import pandas as pd\n",
    "from tqdm.auto import tqdm\n",
    "import matplotlib.pyplot as plt\n",
    "import seaborn as sns\n",
    "from sklearn.metrics import silhouette_score\n",
    "\n",
    "from cybergpt.models.clustering.simple import (\n",
    "    create_user_representations,\n",
    "    cluster_users,\n",
    "    compute_cluster_scores,\n",
    ")\n",
    "from cybergpt.models.utils import feature_df_to_numpy"
   ]
  },
  {
   "cell_type": "markdown",
   "id": "77c289c3-b7b0-47d8-b2a4-0a5a4d417de5",
   "metadata": {},
   "source": [
    "## Data\n",
    "\n",
    "In order to generate the required processed data, please run the following:\n",
    "\n",
    "**Embeddings**\n",
    "\n",
    "```shell\n",
    "python -m cybergpt.models.embed.websites \\\n",
    "    --data_csv path/to/raw/data.csv \\\n",
    "    --output_dir data/embeddings \\\n",
    "    --models openai openai-large minilm e5 tfidf \\\n",
    "    --sample_size 200\n",
    "```\n",
    "\n",
    "Note that sequences of domain visits are first mapped to strings which look like this:\n",
    "\n",
    "`\"Monday 14:15, Visits: google.com (10s) -> youtube.com (89s) -> google.com (32s) -> amazon.de (123s)\"`\n",
    "\n",
    "**Features**\n",
    "\n",
    "```shell\n",
    "python -m cybergpt.models.features \\\n",
    "    --data_csv path/to/raw/data.csv \\\n",
    "    --output_dir data/features\n",
    "```"
   ]
  },
  {
   "cell_type": "code",
   "execution_count": 3,
   "id": "8a1a3a74-84a0-4a4d-9f6b-66a6cf91f9fe",
   "metadata": {},
   "outputs": [],
   "source": [
    "SEQUENCES_PICKLE = \"../data/embeddings/preprocessed_dataset.pkl\"\n",
    "EMBEDDINGS_PICKLES = {\n",
    "    \"openai\": \"../data/embeddings/embeddings_openai.pkl\",\n",
    "    \"openai-large\": \"../data/embeddings/embeddings_openai-large.pkl\",\n",
    "    \"tfidf\": \"../data/embeddings/embeddings_tfidf.pkl\",\n",
    "    \"e5\": \"../data/embeddings/embeddings_e5.pkl\",\n",
    "    \"minilm\": \"../data/embeddings/embeddings_minilm.pkl\",\n",
    "}\n",
    "FEATURES_PICKLE = \"../data/features/features.pkl\""
   ]
  },
  {
   "cell_type": "code",
   "execution_count": 4,
   "id": "c056f7d9-d939-4507-a48b-fea55797dbed",
   "metadata": {},
   "outputs": [],
   "source": [
    "data = pickle.load(open(SEQUENCES_PICKLE, \"rb\"))\n",
    "sequences = data[\"string_sequences\"]\n",
    "labels = data[\"labels\"]\n",
    "\n",
    "embeddings = {e: pickle.load(open(p, \"rb\")) for e, p in EMBEDDINGS_PICKLES.items()}"
   ]
  },
  {
   "cell_type": "code",
   "execution_count": 5,
   "id": "d9716719-7b5c-4eb9-8db6-580c9b6b7977",
   "metadata": {},
   "outputs": [],
   "source": [
    "feature_data = pickle.load(open(FEATURES_PICKLE, \"rb\"))\n",
    "all_labels = feature_data[\"labels\"]\n",
    "features = feature_data[\"features\"]\n",
    "np_features = feature_df_to_numpy(features)"
   ]
  },
  {
   "cell_type": "code",
   "execution_count": 6,
   "id": "3e7e3007-0c22-4b1b-b1d8-1c52217d9211",
   "metadata": {},
   "outputs": [],
   "source": [
    "# Align features with embeddings subset\n",
    "users = pd.Series(labels).drop_duplicates().to_list()\n",
    "features[\"label\"] = all_labels\n",
    "features = pd.concat([features[features[\"label\"] == u] for u in users])\n",
    "feature_arrays = [\n",
    "    np.array([f for f, l in zip(np_features, all_labels) if l == u]) for u in users\n",
    "]\n",
    "np_features = np.concatenate(feature_arrays)"
   ]
  },
  {
   "cell_type": "code",
   "execution_count": 7,
   "id": "a6b58b52-0ea4-4de7-b610-c6b63ea0dffb",
   "metadata": {},
   "outputs": [],
   "source": [
    "embeddings[\"features\"] = np_features"
   ]
  },
  {
   "cell_type": "code",
   "execution_count": 8,
   "id": "264670ed-cbef-4f1b-8b26-2028a2781456",
   "metadata": {},
   "outputs": [
    {
     "name": "stdout",
     "output_type": "stream",
     "text": [
      "Shapes:\n"
     ]
    },
    {
     "data": {
      "text/plain": [
       "{'openai': (7806, 1536),\n",
       " 'openai-large': (7806, 3072),\n",
       " 'tfidf': (7806, 11387),\n",
       " 'e5': (7806, 384),\n",
       " 'minilm': (7806, 384),\n",
       " 'features': (7806, 51)}"
      ]
     },
     "execution_count": 8,
     "metadata": {},
     "output_type": "execute_result"
    }
   ],
   "source": [
    "print(\"Shapes:\")\n",
    "{k: v.shape for k, v in embeddings.items()}"
   ]
  },
  {
   "cell_type": "code",
   "execution_count": 9,
   "id": "cfa87721-e298-4156-9f76-3c8e03700d7c",
   "metadata": {},
   "outputs": [
    {
     "data": {
      "text/plain": [
       "(7806, 50)"
      ]
     },
     "execution_count": 9,
     "metadata": {},
     "output_type": "execute_result"
    }
   ],
   "source": [
    "features.shape"
   ]
  },
  {
   "cell_type": "code",
   "execution_count": 10,
   "id": "e9010f26-001f-4f92-befd-69994b0d9fd0",
   "metadata": {},
   "outputs": [
    {
     "name": "stdout",
     "output_type": "stream",
     "text": [
      "Number of sequences: 7806\n"
     ]
    }
   ],
   "source": [
    "print(f\"Number of sequences: {len(labels)}\")"
   ]
  },
  {
   "cell_type": "code",
   "execution_count": 11,
   "id": "9b5fa17c-6070-454c-b77c-7dd2fd4083fb",
   "metadata": {},
   "outputs": [
    {
     "data": {
      "text/plain": [
       "200"
      ]
     },
     "execution_count": 11,
     "metadata": {},
     "output_type": "execute_result"
    }
   ],
   "source": [
    "users = list(np.unique(labels))\n",
    "len(users)"
   ]
  },
  {
   "cell_type": "code",
   "execution_count": null,
   "id": "79b22f26-a984-42c5-a753-21fad75468c3",
   "metadata": {},
   "outputs": [],
   "source": [
    "# Do kmeans on embeddings (average silhouette score to find best number of clusters)\n",
    "# Get clusters for each sequence\n",
    "# Get probability distribution on clusters\n",
    "# Cluster probability distributions (or do something more interesting?)\n",
    "# Pass through Claude"
   ]
  },
  {
   "cell_type": "code",
   "execution_count": null,
   "id": "05520cfe-2835-470b-a0b1-8b98d6adf498",
   "metadata": {},
   "outputs": [],
   "source": []
  },
  {
   "cell_type": "code",
   "execution_count": null,
   "id": "b6d16fdb-ddd1-4b74-8512-72e9981f3793",
   "metadata": {},
   "outputs": [],
   "source": []
  },
  {
   "cell_type": "code",
   "execution_count": null,
   "id": "6b5de76b-013d-4d6b-a866-34a191673168",
   "metadata": {},
   "outputs": [],
   "source": []
  },
  {
   "cell_type": "code",
   "execution_count": null,
   "id": "2fa66b25-14af-4267-9616-1b325acc3872",
   "metadata": {},
   "outputs": [],
   "source": [
    "{k: silhouette_score(v, labels) for k, v in embeddings.items()}"
   ]
  },
  {
   "cell_type": "code",
   "execution_count": null,
   "id": "6044b8ee-d64a-4c7c-816d-1f1b8d359004",
   "metadata": {},
   "outputs": [],
   "source": [
    "MODEL = \"openai\""
   ]
  },
  {
   "cell_type": "code",
   "execution_count": null,
   "id": "18ea9a0e-4cbb-4b10-8cdf-e29a8377bee8",
   "metadata": {},
   "outputs": [],
   "source": [
    "def get_user_embedding_dict(embs, labels, users):\n",
    "    emb_label_list = list(zip(embs, labels))\n",
    "    return {u: [e for e, l in emb_label_list if l == u] for u in users}"
   ]
  },
  {
   "cell_type": "code",
   "execution_count": null,
   "id": "8dba2d3d-673d-4285-9e9b-fcfd9006f01a",
   "metadata": {},
   "outputs": [],
   "source": [
    "emb_dict = get_user_embedding_dict(embeddings[MODEL], labels, users)"
   ]
  },
  {
   "cell_type": "code",
   "execution_count": null,
   "id": "9c6ceb35-9ca2-4b17-ad26-0d3a96f291bb",
   "metadata": {},
   "outputs": [],
   "source": [
    "repns = create_user_representations(emb_dict, aggregations=[\"mean\"])"
   ]
  },
  {
   "cell_type": "code",
   "execution_count": null,
   "id": "3abc11c3-4549-420d-89a9-23c30da23265",
   "metadata": {
    "scrolled": true
   },
   "outputs": [],
   "source": [
    "n_trials = 20\n",
    "scores = pd.concat(\n",
    "    [\n",
    "        compute_cluster_scores(repns, min_clusters=3, max_clusters=8).sort_values(\n",
    "            \"score\", ascending=False\n",
    "        )\n",
    "        for _ in range(n_trials)\n",
    "    ]\n",
    ")"
   ]
  },
  {
   "cell_type": "code",
   "execution_count": null,
   "id": "511bcfcc-001b-4480-aff1-f0b5a99abc3b",
   "metadata": {},
   "outputs": [],
   "source": [
    "scores.groupby([\"n_clusters\", \"algorithm\"]).mean().reset_index().sort_values(\n",
    "    \"score\", ascending=False\n",
    ").head()"
   ]
  },
  {
   "cell_type": "code",
   "execution_count": null,
   "id": "93e5f396-575d-40bd-a90b-f181218615f9",
   "metadata": {},
   "outputs": [],
   "source": [
    "N_CLUSTERS = 3\n",
    "ALGORITHM = \"kmeans\""
   ]
  },
  {
   "cell_type": "code",
   "execution_count": null,
   "id": "94e0faad-c0a2-443d-b042-b9a844da5e9a",
   "metadata": {},
   "outputs": [],
   "source": [
    "clusters, scores = cluster_users(\n",
    "    repns, algorithm_names=[ALGORITHM], n_clusters=N_CLUSTERS, return_scores=True\n",
    ")"
   ]
  },
  {
   "cell_type": "code",
   "execution_count": null,
   "id": "accf9513-76b5-4187-a5aa-6202790bba51",
   "metadata": {},
   "outputs": [],
   "source": [
    "clusters = clusters[ALGORITHM]"
   ]
  },
  {
   "cell_type": "code",
   "execution_count": null,
   "id": "7780e574-5dd1-4c7f-b745-78971cd8e80c",
   "metadata": {},
   "outputs": [],
   "source": [
    "scores[ALGORITHM]"
   ]
  },
  {
   "cell_type": "code",
   "execution_count": null,
   "id": "d82e2108-f8df-4ada-b08d-a54b2121b27a",
   "metadata": {},
   "outputs": [],
   "source": [
    "cluster_dict = {u: c for u, c in zip(users, clusters)}\n",
    "pd.Series(cluster_dict).value_counts()"
   ]
  },
  {
   "cell_type": "code",
   "execution_count": null,
   "id": "5dba7d09-adee-451f-96ea-e2ae68928150",
   "metadata": {
    "scrolled": true
   },
   "outputs": [],
   "source": [
    "label_clusters = [cluster_dict[l] for l in labels]"
   ]
  },
  {
   "cell_type": "code",
   "execution_count": null,
   "id": "c6161f08-0e27-460d-ab4c-10630a28dd8a",
   "metadata": {},
   "outputs": [],
   "source": [
    "clustered_sequences = {\n",
    "    c: [s for s, l in zip(sequences, label_clusters) if l == c]\n",
    "    for c in range(N_CLUSTERS)\n",
    "}"
   ]
  },
  {
   "cell_type": "code",
   "execution_count": null,
   "id": "e7711700-bbde-4ed9-91a7-97f09ff3638a",
   "metadata": {},
   "outputs": [],
   "source": [
    "{c: len(v) for c, v in clustered_sequences.items()}"
   ]
  },
  {
   "cell_type": "code",
   "execution_count": null,
   "id": "e0a04e29-a5f5-4aeb-bac9-dcd28d5ba32d",
   "metadata": {
    "scrolled": true
   },
   "outputs": [],
   "source": [
    "from random import sample\n",
    "\n",
    "{f\"Cluster {c}\": sample(clustered_sequences[c], 50) for c in range(N_CLUSTERS)}"
   ]
  },
  {
   "cell_type": "markdown",
   "id": "12eed157-6057-4259-8f8c-40cae1b38a82",
   "metadata": {},
   "source": [
    "# Conversations with Claude 3.5 Sonnet [Concise]\n",
    "\n",
    "**Prompt**\n",
    "\n",
    "Below I have a JSON corresponding to 3 clusters of users and a sample of 20 sequences of browsing history for each user cluster. Each sequence has the form \"DAY TIME site1 (duration1) -> site2 (duration2) -> ...\". Give me a short, single sentence description and 3 keywords of what each cluster might represent by looking carefully at the sampled sequences."
   ]
  },
  {
   "cell_type": "markdown",
   "id": "ecd0c47b-ef23-4724-bd9a-229bd1d4a67e",
   "metadata": {},
   "source": [
    "**Cluster 0**\n",
    "\n",
    "- Task-oriented users focused on practical activities like online shopping, banking, job searches and email, with shorter sessions across multiple utility sites.\n",
    "- Daily web browsers primarily using search engines, email services, and news sites with relatively short session durations.\n",
    "- Users primarily accessing banking sites, dating platforms, and news portals with relatively long sessions and structured browsing patterns.\n",
    "- General-purpose internet users with mixed browsing across banking, shopping, news, and adult sites, showing less focused usage patterns.\n",
    "\n",
    "Keywords:\n",
    "- utilitarian, transactional, productivity\n",
    "- utility, email, news\n",
    "- banking, dating, professional\n",
    "- diverse, transactional, casual"
   ]
  },
  {
   "cell_type": "markdown",
   "id": "cca71185-925e-4f68-b916-32aaa0682de9",
   "metadata": {},
   "source": [
    "**Cluster 1**\n",
    "\n",
    "- Heavy social media and entertainment users spending long periods on platforms like Facebook, YouTube, and gaming sites, with frequent switching between them.\n",
    "- Heavy social media and e-commerce users spending long periods on Facebook, gaming sites, and online shopping platforms.\n",
    "- Users showing mixed entertainment and social media usage with frequent switching between platforms and medium-length sessions, often involving shopping sites.\n",
    "- Heavy social media and gaming users, with extended sessions on Facebook, gaming sites (like sfgame.net), and frequent switching between entertainment platforms.\n",
    "\n",
    "Keywords:\n",
    "- social, entertainment, multitasking\n",
    "- social, shopping, gaming\n",
    "- social-media, shopping, casual-browsing\n",
    "- social, gaming, interactive"
   ]
  },
  {
   "cell_type": "code",
   "execution_count": null,
   "id": "8e6ef2f3-46ed-4c07-ab5a-c33c2cac4fcb",
   "metadata": {},
   "outputs": [],
   "source": [
    "**Cluster 2**\n",
    "\n",
    "- Media consumption focused users with long, concentrated sessions on streaming platforms like Netflix and YouTube, showing less site-switching behavior.\n",
    "- Entertainment-focused users with extended sessions on streaming platforms like YouTube, Netflix, and file-sharing sites.\n",
    "- Users heavily focused on streaming and video content with long uninterrupted sessions, frequently accessing media-hosting and video streaming platforms.\n",
    "- Heavy social media and gaming users, with extended sessions on Facebook, gaming sites (like sfgame.net), and frequent switching between entertainment platforms.\n",
    "\n",
    "Keywords:\n",
    "- streaming, binge-watching, focused\n",
    "- streaming, entertainment, binge-watching\n",
    "- social-media, shopping, casual-browsing\n",
    "- social, gaming, interactive"
   ]
  },
  {
   "cell_type": "markdown",
   "id": "95d26ef9-9c9d-4435-a550-c67000b85ca9",
   "metadata": {},
   "source": [
    "\n",
    "Cluster 2: Media consumption focused users with long, concentrated sessions on streaming platforms like Netflix and YouTube, showing less site-switching behavior.\n",
    "\n",
    "Keywords: streaming, binge-watching, focused"
   ]
  },
  {
   "cell_type": "markdown",
   "id": "851c44cd-5773-4a5c-ab53-3f77b89b04dd",
   "metadata": {},
   "source": [
    "\n",
    "Cluster 2: Entertainment-focused users with extended sessions on streaming platforms like YouTube, Netflix, and file-sharing sites.\n",
    "\n",
    "Keywords: streaming, entertainment, binge-watching"
   ]
  },
  {
   "cell_type": "markdown",
   "id": "5b2d27ce-4c54-410d-b469-a05da2441a93",
   "metadata": {},
   "source": [
    "\n",
    "Cluster 2: Users heavily focused on streaming and video content with long uninterrupted sessions, frequently accessing media-hosting and video streaming platforms.\n",
    "\n",
    "Keywords: streaming, video, entertainment"
   ]
  },
  {
   "cell_type": "markdown",
   "id": "95c6e7ab-902a-41b3-b3dc-74003b3a4a28",
   "metadata": {},
   "source": [
    "Cluster 2: Entertainment-focused users with long sessions on streaming platforms (YouTube, Netflix) and minimal site switching.\n",
    "\n",
    "Keywords: streaming, passive, binge-watching"
   ]
  },
  {
   "cell_type": "code",
   "execution_count": null,
   "id": "64a71ee3-537f-4032-b9ea-b1f907ab8c7e",
   "metadata": {},
   "outputs": [],
   "source": []
  },
  {
   "cell_type": "code",
   "execution_count": null,
   "id": "7170bf4e-4830-4bb3-bc0e-ca8468e6eb56",
   "metadata": {},
   "outputs": [],
   "source": []
  }
 ],
 "metadata": {
  "kernelspec": {
   "display_name": "Python (cybergpt-datasets)",
   "language": "python",
   "name": "cybergpt-datasets"
  },
  "language_info": {
   "codemirror_mode": {
    "name": "ipython",
    "version": 3
   },
   "file_extension": ".py",
   "mimetype": "text/x-python",
   "name": "python",
   "nbconvert_exporter": "python",
   "pygments_lexer": "ipython3",
   "version": "3.12.7"
  }
 },
 "nbformat": 4,
 "nbformat_minor": 5
}
