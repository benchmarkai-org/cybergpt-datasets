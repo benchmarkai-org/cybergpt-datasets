{
 "cells": [
  {
   "cell_type": "code",
   "execution_count": 1,
   "id": "93b73705-e831-4e8c-810a-e4de69e65c44",
   "metadata": {},
   "outputs": [],
   "source": [
    "import pickle\n",
    "import numpy as np\n",
    "import pandas as pd\n",
    "from sklearn.metrics import accuracy_score, precision_score, recall_score"
   ]
  },
  {
   "cell_type": "code",
   "execution_count": 2,
   "id": "d85aed57-06a4-4474-871f-1b6aa28d4f76",
   "metadata": {},
   "outputs": [],
   "source": [
    "results = pickle.load(open(\"../data/contrastive/classification_results.pkl\", \"rb\"))"
   ]
  },
  {
   "cell_type": "code",
   "execution_count": 3,
   "id": "602167c6-a912-48c6-a504-ece903c00ffc",
   "metadata": {},
   "outputs": [],
   "source": [
    "metrics = []\n",
    "for r in results:\n",
    "    if r[\"response_json\"] is None:\n",
    "        continue\n",
    "    y_hat = [t[\"match\"] for t in r[\"response_json\"]]\n",
    "    y = r[\"is_test\"]\n",
    "    n = len(y)\n",
    "    if n == 0:\n",
    "        continue\n",
    "    if n != len(y_hat):\n",
    "        continue\n",
    "    metrics.append({\n",
    "        \"class\": r[\"class\"], \n",
    "        \"n\": len(y),\n",
    "        \"accuracy\": accuracy_score(y, y_hat), \n",
    "        \"precision\": precision_score(y, y_hat, zero_division=np.nan), \n",
    "        \"recall\": recall_score(y, y_hat)\n",
    "    })\n",
    "metrics = pd.DataFrame(metrics)"
   ]
  },
  {
   "cell_type": "code",
   "execution_count": 4,
   "id": "2a7d4c09-3d88-4187-9f16-e0b8bfddefbd",
   "metadata": {},
   "outputs": [
    {
     "data": {
      "text/plain": [
       "class        1108.314433\n",
       "n              14.845361\n",
       "accuracy        0.762410\n",
       "precision       0.950075\n",
       "recall          0.552858\n",
       "dtype: float64"
      ]
     },
     "execution_count": 4,
     "metadata": {},
     "output_type": "execute_result"
    }
   ],
   "source": [
    "metrics.mean()"
   ]
  },
  {
   "cell_type": "code",
   "execution_count": 5,
   "id": "ed8b15bf-bf63-415d-b6ee-1e10b7df5487",
   "metadata": {},
   "outputs": [],
   "source": [
    "low_recall_class = int(metrics[metrics[\"recall\"] == 0].iloc[0][\"class\"])"
   ]
  },
  {
   "cell_type": "code",
   "execution_count": 6,
   "id": "42bbc1bd-d496-48c4-8f01-d7c4c3054908",
   "metadata": {},
   "outputs": [],
   "source": [
    "low_recall_results = [r for r in results if r[\"class\"] == low_recall_class][0]"
   ]
  },
  {
   "cell_type": "code",
   "execution_count": 7,
   "id": "0c8f17ab-389c-4205-bee6-8112fbff3515",
   "metadata": {},
   "outputs": [
    {
     "data": {
      "text/plain": [
       "['While amazon.de and ebay.de appear in this sequence, the overall pattern includes significantly longer durations and more varied transitions, suggesting a different browsing behavior.',\n",
       " 'Some presence of sparkasse-mainz.de and ebay.de shows overlaps, yet the sequence showcases a considerable increase in transitions and longer visits to social media, diverging from complex shopping behavior.']"
      ]
     },
     "execution_count": 7,
     "metadata": {},
     "output_type": "execute_result"
    }
   ],
   "source": [
    "[r[\"reasoning\"] for t, r in zip(low_recall_results[\"is_test\"], low_recall_results[\"response_json\"]) if t and r[\"confidence\"] != \"low\"]"
   ]
  },
  {
   "cell_type": "code",
   "execution_count": null,
   "id": "1e2a52cf-21b4-468a-9e48-5437196c44be",
   "metadata": {},
   "outputs": [],
   "source": []
  }
 ],
 "metadata": {
  "kernelspec": {
   "display_name": "Python (cybergpt-datasets)",
   "language": "python",
   "name": "cybergpt-datasets"
  },
  "language_info": {
   "codemirror_mode": {
    "name": "ipython",
    "version": 3
   },
   "file_extension": ".py",
   "mimetype": "text/x-python",
   "name": "python",
   "nbconvert_exporter": "python",
   "pygments_lexer": "ipython3",
   "version": "3.12.7"
  }
 },
 "nbformat": 4,
 "nbformat_minor": 5
}
