{
 "cells": [
  {
   "cell_type": "markdown",
   "id": "7e32c812-9ee4-4e93-908e-538019afde78",
   "metadata": {},
   "source": [
    "# User Clustering using Embeddings\n",
    "\n",
    "**Date:** 7th December 2024 \n",
    "\n",
    "**Dataset:** German Web Tracking"
   ]
  },
  {
   "cell_type": "code",
   "execution_count": 1,
   "id": "3253c4a1-a72e-4e16-8f43-a35a267b7630",
   "metadata": {},
   "outputs": [],
   "source": [
    "import sys\n",
    "import os\n",
    "\n",
    "sys.path.append(os.path.abspath(\"../\"))"
   ]
  },
  {
   "cell_type": "code",
   "execution_count": 2,
   "id": "50deccf9-704e-467a-90d6-63320c06181c",
   "metadata": {},
   "outputs": [],
   "source": [
    "import pickle\n",
    "import numpy as np\n",
    "import pandas as pd\n",
    "from tqdm.auto import tqdm\n",
    "import matplotlib.pyplot as plt\n",
    "import seaborn as sns\n",
    "from sklearn.metrics import silhouette_score\n",
    "\n",
    "from cybergpt.models.clustering.simple import (\n",
    "    create_user_representations,\n",
    "    cluster_users,\n",
    "    compute_cluster_scores,\n",
    ")\n",
    "from cybergpt.models.utils import feature_df_to_numpy"
   ]
  },
  {
   "cell_type": "markdown",
   "id": "77c289c3-b7b0-47d8-b2a4-0a5a4d417de5",
   "metadata": {},
   "source": [
    "## Data\n",
    "\n",
    "In order to generate the required processed data, please run the following:\n",
    "\n",
    "**Embeddings**\n",
    "\n",
    "```shell\n",
    "python -m cybergpt.models.embed.websites \\\n",
    "    --data_csv path/to/raw/data.csv \\\n",
    "    --output_dir data/embeddings \\\n",
    "    --models openai openai-large minilm e5 tfidf \\\n",
    "    --sample_size 200\n",
    "```\n",
    "\n",
    "Note that sequences of domain visits are first mapped to strings which look like this:\n",
    "\n",
    "`\"Monday 14:15, Visits: google.com (10s) -> youtube.com (89s) -> google.com (32s) -> amazon.de (123s)\"`\n",
    "\n",
    "**Features**\n",
    "\n",
    "```shell\n",
    "python -m cybergpt.models.features \\\n",
    "    --data_csv path/to/raw/data.csv \\\n",
    "    --output_dir data/features\n",
    "```"
   ]
  },
  {
   "cell_type": "code",
   "execution_count": 3,
   "id": "8a1a3a74-84a0-4a4d-9f6b-66a6cf91f9fe",
   "metadata": {},
   "outputs": [],
   "source": [
    "SEQUENCES_PICKLE = \"../data/embeddings/preprocessed_dataset.pkl\"\n",
    "EMBEDDINGS_PICKLES = {\n",
    "    \"openai\": \"../data/embeddings/embeddings_openai.pkl\",\n",
    "    \"openai-large\": \"../data/embeddings/embeddings_openai-large.pkl\",\n",
    "    \"tfidf\": \"../data/embeddings/embeddings_tfidf.pkl\",\n",
    "    \"e5\": \"../data/embeddings/embeddings_e5.pkl\",\n",
    "    \"minilm\": \"../data/embeddings/embeddings_minilm.pkl\",\n",
    "}\n",
    "FEATURES_PICKLE = \"../data/features/features.pkl\""
   ]
  },
  {
   "cell_type": "code",
   "execution_count": 4,
   "id": "c056f7d9-d939-4507-a48b-fea55797dbed",
   "metadata": {},
   "outputs": [],
   "source": [
    "data = pickle.load(open(SEQUENCES_PICKLE, \"rb\"))\n",
    "sequences = data[\"string_sequences\"]\n",
    "labels = data[\"labels\"]\n",
    "\n",
    "embeddings = {e: pickle.load(open(p, \"rb\")) for e, p in EMBEDDINGS_PICKLES.items()}"
   ]
  },
  {
   "cell_type": "code",
   "execution_count": 5,
   "id": "d9716719-7b5c-4eb9-8db6-580c9b6b7977",
   "metadata": {},
   "outputs": [],
   "source": [
    "feature_data = pickle.load(open(FEATURES_PICKLE, \"rb\"))\n",
    "all_labels = feature_data[\"labels\"]\n",
    "features = feature_data[\"features\"]\n",
    "np_features = feature_df_to_numpy(features)"
   ]
  },
  {
   "cell_type": "code",
   "execution_count": 6,
   "id": "3e7e3007-0c22-4b1b-b1d8-1c52217d9211",
   "metadata": {},
   "outputs": [],
   "source": [
    "# Align features with embeddings subset\n",
    "users = pd.Series(labels).drop_duplicates().to_list()\n",
    "features[\"label\"] = all_labels\n",
    "features = pd.concat([features[features[\"label\"] == u] for u in users])\n",
    "feature_arrays = [\n",
    "    np.array([f for f, l in zip(np_features, all_labels) if l == u]) for u in users\n",
    "]\n",
    "np_features = np.concatenate(feature_arrays)"
   ]
  },
  {
   "cell_type": "code",
   "execution_count": 7,
   "id": "a6b58b52-0ea4-4de7-b610-c6b63ea0dffb",
   "metadata": {},
   "outputs": [],
   "source": [
    "embeddings[\"features\"] = np_features"
   ]
  },
  {
   "cell_type": "code",
   "execution_count": 8,
   "id": "264670ed-cbef-4f1b-8b26-2028a2781456",
   "metadata": {},
   "outputs": [
    {
     "name": "stdout",
     "output_type": "stream",
     "text": [
      "Shapes:\n"
     ]
    },
    {
     "data": {
      "text/plain": [
       "{'openai': (7806, 1536),\n",
       " 'openai-large': (7806, 3072),\n",
       " 'tfidf': (7806, 11387),\n",
       " 'e5': (7806, 384),\n",
       " 'minilm': (7806, 384),\n",
       " 'features': (7806, 51)}"
      ]
     },
     "execution_count": 8,
     "metadata": {},
     "output_type": "execute_result"
    }
   ],
   "source": [
    "print(\"Shapes:\")\n",
    "{k: v.shape for k, v in embeddings.items()}"
   ]
  },
  {
   "cell_type": "code",
   "execution_count": 10,
   "id": "e9010f26-001f-4f92-befd-69994b0d9fd0",
   "metadata": {},
   "outputs": [
    {
     "name": "stdout",
     "output_type": "stream",
     "text": [
      "Number of sequences: 7806\n"
     ]
    }
   ],
   "source": [
    "print(f\"Number of sequences: {len(labels)}\")"
   ]
  },
  {
   "cell_type": "code",
   "execution_count": 11,
   "id": "9b5fa17c-6070-454c-b77c-7dd2fd4083fb",
   "metadata": {},
   "outputs": [
    {
     "data": {
      "text/plain": [
       "200"
      ]
     },
     "execution_count": 11,
     "metadata": {},
     "output_type": "execute_result"
    }
   ],
   "source": [
    "users = list(np.unique(labels))\n",
    "len(users)"
   ]
  },
  {
   "cell_type": "markdown",
   "id": "3d76f241-e1ba-4b5d-96c2-bb0bc603abbf",
   "metadata": {},
   "source": [
    "Silhouette scores:"
   ]
  },
  {
   "cell_type": "code",
   "execution_count": 12,
   "id": "2fa66b25-14af-4267-9616-1b325acc3872",
   "metadata": {},
   "outputs": [
    {
     "data": {
      "text/plain": [
       "{'openai': -0.0011543738277431557,\n",
       " 'openai-large': 0.007068461595619095,\n",
       " 'tfidf': 0.029036192961056792,\n",
       " 'e5': -0.031952273,\n",
       " 'minilm': -0.031172128,\n",
       " 'features': -0.6473902283130751}"
      ]
     },
     "execution_count": 12,
     "metadata": {},
     "output_type": "execute_result"
    }
   ],
   "source": [
    "{k: silhouette_score(v, labels) for k, v in embeddings.items()}"
   ]
  },
  {
   "cell_type": "markdown",
   "id": "3ec48795-f676-4451-8a70-caa37cd2a8b1",
   "metadata": {},
   "source": [
    "## Cluster `text-embedding-3-small` Embeddings"
   ]
  },
  {
   "cell_type": "code",
   "execution_count": 13,
   "id": "6044b8ee-d64a-4c7c-816d-1f1b8d359004",
   "metadata": {},
   "outputs": [],
   "source": [
    "MODEL = \"openai\""
   ]
  },
  {
   "cell_type": "code",
   "execution_count": 14,
   "id": "18ea9a0e-4cbb-4b10-8cdf-e29a8377bee8",
   "metadata": {},
   "outputs": [],
   "source": [
    "def get_user_embedding_dict(embs, labels, users):\n",
    "    emb_label_list = list(zip(embs, labels))\n",
    "    return {u: [e for e, l in emb_label_list if l == u] for u in users}"
   ]
  },
  {
   "cell_type": "code",
   "execution_count": 15,
   "id": "8dba2d3d-673d-4285-9e9b-fcfd9006f01a",
   "metadata": {},
   "outputs": [],
   "source": [
    "emb_dict = get_user_embedding_dict(embeddings[MODEL], labels, users)"
   ]
  },
  {
   "cell_type": "code",
   "execution_count": 16,
   "id": "9c6ceb35-9ca2-4b17-ad26-0d3a96f291bb",
   "metadata": {},
   "outputs": [],
   "source": [
    "repns = create_user_representations(emb_dict, aggregations=[\"mean\"])"
   ]
  },
  {
   "cell_type": "markdown",
   "id": "86b65ac5-c01b-4e5a-a51d-902295514043",
   "metadata": {},
   "source": [
    "Identify an optimal number of clusters using silhouette scores."
   ]
  },
  {
   "cell_type": "code",
   "execution_count": 17,
   "id": "3abc11c3-4549-420d-89a9-23c30da23265",
   "metadata": {
    "scrolled": true
   },
   "outputs": [
    {
     "data": {
      "application/vnd.jupyter.widget-view+json": {
       "model_id": "c47c61926872427aa9cb034e144ff183",
       "version_major": 2,
       "version_minor": 0
      },
      "text/plain": [
       "Computing cluster scores:   0%|          | 0/6 [00:00<?, ?it/s]"
      ]
     },
     "metadata": {},
     "output_type": "display_data"
    },
    {
     "data": {
      "application/vnd.jupyter.widget-view+json": {
       "model_id": "a792f30cb98441719f963d939f18f902",
       "version_major": 2,
       "version_minor": 0
      },
      "text/plain": [
       "Computing cluster scores:   0%|          | 0/6 [00:00<?, ?it/s]"
      ]
     },
     "metadata": {},
     "output_type": "display_data"
    },
    {
     "data": {
      "application/vnd.jupyter.widget-view+json": {
       "model_id": "3d1a3776985d4f038f620dbaae76d055",
       "version_major": 2,
       "version_minor": 0
      },
      "text/plain": [
       "Computing cluster scores:   0%|          | 0/6 [00:00<?, ?it/s]"
      ]
     },
     "metadata": {},
     "output_type": "display_data"
    },
    {
     "data": {
      "application/vnd.jupyter.widget-view+json": {
       "model_id": "4039ce1c88ae4430a0f737baab14976e",
       "version_major": 2,
       "version_minor": 0
      },
      "text/plain": [
       "Computing cluster scores:   0%|          | 0/6 [00:00<?, ?it/s]"
      ]
     },
     "metadata": {},
     "output_type": "display_data"
    },
    {
     "data": {
      "application/vnd.jupyter.widget-view+json": {
       "model_id": "b01f540d02544c1cb8485ed9741e9795",
       "version_major": 2,
       "version_minor": 0
      },
      "text/plain": [
       "Computing cluster scores:   0%|          | 0/6 [00:00<?, ?it/s]"
      ]
     },
     "metadata": {},
     "output_type": "display_data"
    },
    {
     "data": {
      "application/vnd.jupyter.widget-view+json": {
       "model_id": "18661b02f1b3430a896880fe3107d35e",
       "version_major": 2,
       "version_minor": 0
      },
      "text/plain": [
       "Computing cluster scores:   0%|          | 0/6 [00:00<?, ?it/s]"
      ]
     },
     "metadata": {},
     "output_type": "display_data"
    },
    {
     "data": {
      "application/vnd.jupyter.widget-view+json": {
       "model_id": "574b0a7f48814f1da528ffb714c1704a",
       "version_major": 2,
       "version_minor": 0
      },
      "text/plain": [
       "Computing cluster scores:   0%|          | 0/6 [00:00<?, ?it/s]"
      ]
     },
     "metadata": {},
     "output_type": "display_data"
    },
    {
     "data": {
      "application/vnd.jupyter.widget-view+json": {
       "model_id": "4696d6b123ef4c4f872d6ce03ef46103",
       "version_major": 2,
       "version_minor": 0
      },
      "text/plain": [
       "Computing cluster scores:   0%|          | 0/6 [00:00<?, ?it/s]"
      ]
     },
     "metadata": {},
     "output_type": "display_data"
    },
    {
     "data": {
      "application/vnd.jupyter.widget-view+json": {
       "model_id": "7ebf88f2ca3f452692cb769a17c346d2",
       "version_major": 2,
       "version_minor": 0
      },
      "text/plain": [
       "Computing cluster scores:   0%|          | 0/6 [00:00<?, ?it/s]"
      ]
     },
     "metadata": {},
     "output_type": "display_data"
    },
    {
     "data": {
      "application/vnd.jupyter.widget-view+json": {
       "model_id": "3ddabe30ead242cd94bb8b90fd83c49d",
       "version_major": 2,
       "version_minor": 0
      },
      "text/plain": [
       "Computing cluster scores:   0%|          | 0/6 [00:00<?, ?it/s]"
      ]
     },
     "metadata": {},
     "output_type": "display_data"
    },
    {
     "data": {
      "application/vnd.jupyter.widget-view+json": {
       "model_id": "796887354f6f410fb44e80e7fa6ed436",
       "version_major": 2,
       "version_minor": 0
      },
      "text/plain": [
       "Computing cluster scores:   0%|          | 0/6 [00:00<?, ?it/s]"
      ]
     },
     "metadata": {},
     "output_type": "display_data"
    },
    {
     "data": {
      "application/vnd.jupyter.widget-view+json": {
       "model_id": "b983945187764bd8a64405dd51353c84",
       "version_major": 2,
       "version_minor": 0
      },
      "text/plain": [
       "Computing cluster scores:   0%|          | 0/6 [00:00<?, ?it/s]"
      ]
     },
     "metadata": {},
     "output_type": "display_data"
    },
    {
     "data": {
      "application/vnd.jupyter.widget-view+json": {
       "model_id": "72fc777b88554c509d1b87652861a29e",
       "version_major": 2,
       "version_minor": 0
      },
      "text/plain": [
       "Computing cluster scores:   0%|          | 0/6 [00:00<?, ?it/s]"
      ]
     },
     "metadata": {},
     "output_type": "display_data"
    },
    {
     "data": {
      "application/vnd.jupyter.widget-view+json": {
       "model_id": "05a99e1df7784cc9ad9da687a7e12170",
       "version_major": 2,
       "version_minor": 0
      },
      "text/plain": [
       "Computing cluster scores:   0%|          | 0/6 [00:00<?, ?it/s]"
      ]
     },
     "metadata": {},
     "output_type": "display_data"
    },
    {
     "data": {
      "application/vnd.jupyter.widget-view+json": {
       "model_id": "26941cbbeedd4c218a6828601ecc1520",
       "version_major": 2,
       "version_minor": 0
      },
      "text/plain": [
       "Computing cluster scores:   0%|          | 0/6 [00:00<?, ?it/s]"
      ]
     },
     "metadata": {},
     "output_type": "display_data"
    },
    {
     "data": {
      "application/vnd.jupyter.widget-view+json": {
       "model_id": "d94b03b9a3174d14ba77e0121a568dc4",
       "version_major": 2,
       "version_minor": 0
      },
      "text/plain": [
       "Computing cluster scores:   0%|          | 0/6 [00:00<?, ?it/s]"
      ]
     },
     "metadata": {},
     "output_type": "display_data"
    },
    {
     "data": {
      "application/vnd.jupyter.widget-view+json": {
       "model_id": "78a906a81fc44eb4bff7e3f694523712",
       "version_major": 2,
       "version_minor": 0
      },
      "text/plain": [
       "Computing cluster scores:   0%|          | 0/6 [00:00<?, ?it/s]"
      ]
     },
     "metadata": {},
     "output_type": "display_data"
    },
    {
     "data": {
      "application/vnd.jupyter.widget-view+json": {
       "model_id": "9d6c6cea81c4417b9d7721f6abd88a05",
       "version_major": 2,
       "version_minor": 0
      },
      "text/plain": [
       "Computing cluster scores:   0%|          | 0/6 [00:00<?, ?it/s]"
      ]
     },
     "metadata": {},
     "output_type": "display_data"
    },
    {
     "data": {
      "application/vnd.jupyter.widget-view+json": {
       "model_id": "b0737bfc273a41eabe3442b360066b20",
       "version_major": 2,
       "version_minor": 0
      },
      "text/plain": [
       "Computing cluster scores:   0%|          | 0/6 [00:00<?, ?it/s]"
      ]
     },
     "metadata": {},
     "output_type": "display_data"
    },
    {
     "data": {
      "application/vnd.jupyter.widget-view+json": {
       "model_id": "730844f1cf6a42eebdd4d5e72cc94be2",
       "version_major": 2,
       "version_minor": 0
      },
      "text/plain": [
       "Computing cluster scores:   0%|          | 0/6 [00:00<?, ?it/s]"
      ]
     },
     "metadata": {},
     "output_type": "display_data"
    }
   ],
   "source": [
    "n_trials = 20\n",
    "scores = pd.concat(\n",
    "    [\n",
    "        compute_cluster_scores(repns, min_clusters=3, max_clusters=8).sort_values(\n",
    "            \"score\", ascending=False\n",
    "        )\n",
    "        for _ in range(n_trials)\n",
    "    ]\n",
    ")"
   ]
  },
  {
   "cell_type": "code",
   "execution_count": 18,
   "id": "511bcfcc-001b-4480-aff1-f0b5a99abc3b",
   "metadata": {},
   "outputs": [
    {
     "data": {
      "text/html": [
       "<div>\n",
       "<style scoped>\n",
       "    .dataframe tbody tr th:only-of-type {\n",
       "        vertical-align: middle;\n",
       "    }\n",
       "\n",
       "    .dataframe tbody tr th {\n",
       "        vertical-align: top;\n",
       "    }\n",
       "\n",
       "    .dataframe thead th {\n",
       "        text-align: right;\n",
       "    }\n",
       "</style>\n",
       "<table border=\"1\" class=\"dataframe\">\n",
       "  <thead>\n",
       "    <tr style=\"text-align: right;\">\n",
       "      <th></th>\n",
       "      <th>n_clusters</th>\n",
       "      <th>algorithm</th>\n",
       "      <th>score</th>\n",
       "    </tr>\n",
       "  </thead>\n",
       "  <tbody>\n",
       "    <tr>\n",
       "      <th>1</th>\n",
       "      <td>3</td>\n",
       "      <td>kmeans</td>\n",
       "      <td>0.062589</td>\n",
       "    </tr>\n",
       "    <tr>\n",
       "      <th>8</th>\n",
       "      <td>7</td>\n",
       "      <td>agglomerative</td>\n",
       "      <td>0.055885</td>\n",
       "    </tr>\n",
       "    <tr>\n",
       "      <th>11</th>\n",
       "      <td>8</td>\n",
       "      <td>kmeans</td>\n",
       "      <td>0.053483</td>\n",
       "    </tr>\n",
       "    <tr>\n",
       "      <th>3</th>\n",
       "      <td>4</td>\n",
       "      <td>kmeans</td>\n",
       "      <td>0.053344</td>\n",
       "    </tr>\n",
       "    <tr>\n",
       "      <th>5</th>\n",
       "      <td>5</td>\n",
       "      <td>kmeans</td>\n",
       "      <td>0.053328</td>\n",
       "    </tr>\n",
       "  </tbody>\n",
       "</table>\n",
       "</div>"
      ],
      "text/plain": [
       "    n_clusters      algorithm     score\n",
       "1            3         kmeans  0.062589\n",
       "8            7  agglomerative  0.055885\n",
       "11           8         kmeans  0.053483\n",
       "3            4         kmeans  0.053344\n",
       "5            5         kmeans  0.053328"
      ]
     },
     "execution_count": 18,
     "metadata": {},
     "output_type": "execute_result"
    }
   ],
   "source": [
    "scores.groupby([\"n_clusters\", \"algorithm\"]).mean().reset_index().sort_values(\n",
    "    \"score\", ascending=False\n",
    ").head()"
   ]
  },
  {
   "cell_type": "code",
   "execution_count": 23,
   "id": "93e5f396-575d-40bd-a90b-f181218615f9",
   "metadata": {},
   "outputs": [],
   "source": [
    "N_CLUSTERS = 3\n",
    "ALGORITHM = \"kmeans\""
   ]
  },
  {
   "cell_type": "markdown",
   "id": "2ceb34e5-88ac-4fda-86e4-e58d58e4412b",
   "metadata": {},
   "source": [
    "## Cluster Users"
   ]
  },
  {
   "cell_type": "code",
   "execution_count": 22,
   "id": "94e0faad-c0a2-443d-b042-b9a844da5e9a",
   "metadata": {},
   "outputs": [],
   "source": [
    "clusters, scores = cluster_users(\n",
    "    repns, algorithm_names=[ALGORITHM], n_clusters=N_CLUSTERS, return_scores=True\n",
    ")"
   ]
  },
  {
   "cell_type": "code",
   "execution_count": 24,
   "id": "accf9513-76b5-4187-a5aa-6202790bba51",
   "metadata": {},
   "outputs": [],
   "source": [
    "clusters = clusters[ALGORITHM]"
   ]
  },
  {
   "cell_type": "code",
   "execution_count": 26,
   "id": "7780e574-5dd1-4c7f-b745-78971cd8e80c",
   "metadata": {},
   "outputs": [
    {
     "data": {
      "text/plain": [
       "0.07005938796215308"
      ]
     },
     "execution_count": 26,
     "metadata": {},
     "output_type": "execute_result"
    }
   ],
   "source": [
    "scores[ALGORITHM]"
   ]
  },
  {
   "cell_type": "code",
   "execution_count": 27,
   "id": "d82e2108-f8df-4ada-b08d-a54b2121b27a",
   "metadata": {},
   "outputs": [
    {
     "data": {
      "text/plain": [
       "0    102\n",
       "1     74\n",
       "2     24\n",
       "Name: count, dtype: int64"
      ]
     },
     "execution_count": 27,
     "metadata": {},
     "output_type": "execute_result"
    }
   ],
   "source": [
    "cluster_dict = {u: c for u, c in zip(users, clusters)}\n",
    "pd.Series(cluster_dict).value_counts()"
   ]
  },
  {
   "cell_type": "code",
   "execution_count": 28,
   "id": "5dba7d09-adee-451f-96ea-e2ae68928150",
   "metadata": {
    "scrolled": true
   },
   "outputs": [],
   "source": [
    "label_clusters = [cluster_dict[l] for l in labels]"
   ]
  },
  {
   "cell_type": "code",
   "execution_count": 30,
   "id": "c6161f08-0e27-460d-ab4c-10630a28dd8a",
   "metadata": {},
   "outputs": [],
   "source": [
    "clustered_sequences = {\n",
    "    c: [s for s, l in zip(sequences, label_clusters) if l == c]\n",
    "    for c in range(N_CLUSTERS)\n",
    "}"
   ]
  },
  {
   "cell_type": "markdown",
   "id": "32544528-19eb-4418-9f03-bc877b81dcdc",
   "metadata": {},
   "source": [
    "## Sequences in User Clusters"
   ]
  },
  {
   "cell_type": "code",
   "execution_count": 31,
   "id": "e7711700-bbde-4ed9-91a7-97f09ff3638a",
   "metadata": {},
   "outputs": [
    {
     "data": {
      "text/plain": [
       "{0: 3437, 1: 3631, 2: 738}"
      ]
     },
     "execution_count": 31,
     "metadata": {},
     "output_type": "execute_result"
    }
   ],
   "source": [
    "{c: len(v) for c, v in clustered_sequences.items()}"
   ]
  },
  {
   "cell_type": "code",
   "execution_count": 39,
   "id": "e0a04e29-a5f5-4aeb-bac9-dcd28d5ba32d",
   "metadata": {
    "scrolled": true
   },
   "outputs": [
    {
     "data": {
      "text/plain": [
       "{'Cluster 0': ['Friday 11:11, Visits: tubeadultmovies.com (15s) -> web.de (186s) -> iwank.tv (16s) -> web.de (6s) -> tubedupe.com (126s) -> iwank.tv (1s)',\n",
       "  'Friday 23:41, Visits: myway.com (20s) -> postbank.de (12s) -> myway.com (8s) -> google.com (2s) -> myway.com (10s) -> google.com (2s) -> myway.com (12s) -> google.com (2s) -> myway.com (20s) -> google.com (4s) -> myway.com (6s) -> google.com (2s) -> aol.de (6s) -> aol.com (26s) -> facebook.com (16s) -> aol.com (10s) -> vodafone.de (18s) -> aol.com (668s) -> catawiki.de (10s) -> aol.com (402s) -> catawiki.de (11s)',\n",
       "  'Sunday 15:32, Visits: google.com (223s) -> google.com (46s) -> google.com (2s) -> google.com (8s) -> google.com (122s) -> facebook.com (17s)',\n",
       "  'Friday 22:37, Visits: google.com (101s) -> google.com (312s) -> facebook.com (282s) -> ebay-kleinanzeigen.de (174s) -> facebook.com (128s) -> lightinthebox.com (185s) -> facebook.com (159s) -> google.com (18s) -> redbrain.shop (2s) -> webgains.com (4s) -> preiswertepc.de (84s) -> google.com (4s) -> gamestar.de (48s) -> outbrain.com (4s) -> mdm.de (52s) -> gamestar.de (2s) -> google.com (10s) -> computerbase.de (70s) -> google.com (24s) -> googleadservices.com (4s) -> ebay.de (28s) -> google.com (25s)',\n",
       "  'Saturday 20:24, Visits: pinterest.de (4s) -> pinterest.de (23s) -> pinterest.de (6s) -> bigbangempire.com (54s) -> google.com (14s) -> beeg.com (36s) -> google.com (6s) -> nurxxx.mobi (10s) -> google.com (2s) -> anyporn.com (14s) -> google.com (18s) -> nurxxx.mobi (2s) -> txxx.com (12s) -> livejasmin.com (6s) -> nurxxx.mobi (6s) -> google.com (14s) -> justporno.sex (2s) -> exoclick.com (4s) -> justporno.sex (12s) -> google.com (12s) -> justporno.sex (10s) -> workfromhomejobsonline.co (2s) -> google.com (2s) -> nurxxx.mobi (34s) -> drtuber.com (8s) -> nurxxx.mobi (8s) -> hotmovs.com (204s) -> nurxxx.mobi (2s) -> 3movs.com (50s) -> nurxxx.mobi (8s) -> google.com (4s) -> hothomemade.com (12s) -> xhamster.com (206s) -> hothomemade.com (6s) -> google.com (4s) -> xvideosex.site (6s) -> google.com (2s) -> sex-fetish.org (2s) -> google.com (10s) -> pornj.com (238s) -> facebook.com (367s) -> facebook.com (95s) -> suicidegirls.com (8s) -> facebook.com (112s) -> suicidegirls.com (12s) -> facebook.com (284s) -> google.com (4s) -> bahn.de (71s) -> google.com (53s) -> amazon.de (26s) -> youtube.com (2s) -> youtube.com (20s) -> youtube.com (22s) -> amazon.de (22s) -> youtube.com (2s) -> youtube.com (29s) -> youtube.com (63s) -> youtube.com (70s) -> youtube.com (4s) -> amazon.de (16s) -> google.com (2s) -> vodafone.de (45s) -> google.com (1382s) -> vodafone.de (63s)',\n",
       "  'Monday 0:10, Visits: sprungbrett-hh.de (75s) -> sprungbrett-hh.de (143s)',\n",
       "  'Thursday 12:56, Visits: lovescout24.de (2s) -> google.de (211s) -> selbstablesung.com (556s) -> model-kartei.de (20s) -> tubeadultmovies.com (15s) -> anysex.com (81s) -> mydirtyhobby.com (2s) -> tubeadultmovies.com (10s) -> tubent.com (2s) -> tubeadultmovies.com (2s) -> hellporno.com (90s) -> tubeadultmovies.com (8s) -> tubespin.tv (16s) -> hellporno.com (2s) -> tubeadultmovies.com (2s) -> polarpornhd.com (12s) -> tubeadultmovies.com (2s) -> xcafe.com (69s)',\n",
       "  'Tuesday 11:37, Visits: microsoft.com (4s) -> microsoft.com (12s) -> bing.com (4s)',\n",
       "  'Monday 20:26, Visits: web.de (2s) -> web.de (188s) -> web.de (136s) -> commerzbank.de (27s) -> web.de (34s) -> norisbank.de (113s)',\n",
       "  'Wednesday 5:42, Visits: amazon.de (965s) -> amazon.de (60s) -> google.de (4s) -> searchencrypt.com (108s) -> pflege.de (6s) -> searchencrypt.com (134s) -> etsy.com (10s) -> searchencrypt.com (12s) -> bild.de (254s) -> amazon.de (98s) -> bild.de (14s) -> stimberg-zeitung.de (72s) -> yahoo.com (10s) -> stimberg-zeitung.de (4s) -> bild.de (10s) -> searchencrypt.com (2s) -> google.de (40s) -> google.com (22s) -> searchencrypt.com (20s) -> google.com (192s) -> kensaq.com (6s) -> google.de (36s) -> mozilla.org (122s) -> bild.de (86s) -> google.de (50s) -> bild.de (56s) -> sparkasse-re.de (24s) -> bild.de (2s) -> sparkasse-re.de (14s) -> bild.de (4s) -> forgeofempires.com (34s) -> google.de (60s) -> google.de (12s)',\n",
       "  'Monday 6:24, Visits: amazon.com (123s) -> amazon.de (74s) -> mobilcom-debitel.de (1004s) -> amazon.de (18s) -> mobilcom-debitel.de (900s) -> amazon.de (46s) -> microsoft.com (43s) -> microsoft.com (22s) -> amazon.de (24s) -> mobilcom-debitel.de (4s) -> microsoft.com (2s) -> amazon.de (1s) -> chip.de (1s) -> amazon.de (50s) -> bild.de (190s) -> bild.de (180s) -> bild.de (180s) -> bild.de (180s)',\n",
       "  'Wednesday 15:25, Visits: ebay.de (257s) -> ebay.de (261s) -> ebay.de (66s)',\n",
       "  'Thursday 16:4, Visits: google.de (83s) -> google.de (44s) -> youtube.com (1913s) -> youtube.com (459s) -> youtube.com (296s) -> youtube.com (216s) -> youtube.com (219s) -> youtube.com (7s) -> google.de (102s) -> wikipedia.org (301s) -> wikipedia.org (432s) -> wikipedia.org (5s)',\n",
       "  'Monday 16:46, Visits: yahoo.com (24s) -> bing.com (91s) -> gametwist.com (37s) -> yahoo.com (8s) -> sendgrid.net (22s) -> yahoo.com (4s) -> sendgrid.net (32s) -> spidermetrix.com (10s) -> spidermetrix.com (70s) -> yahoo.com (22s) -> yahoo.com (16s) -> yahoo.com (4s) -> gametwist.com (4s) -> yahoo.com (12s) -> yahoo.com (66s) -> yahoo.com (6s) -> yovoco-panel.com (8s) -> yahoo.com (28s) -> yahoo.com (14s) -> goatdee.net (91s) -> sportstream.tv (159s) -> gametwist.com (10s) -> sportstream.tv (101s) -> gametwist.com (36s) -> gametwist.com (72s) -> gametwist.com (5s) -> sportstream.tv (4s) -> yahoo.com (52s) -> goatdee.net (8s) -> gametwist.com (4s) -> goatdee.net (4s) -> gametwist.com (179s) -> gametwist.com (17s) -> goatdee.net (16s) -> goatdee.net (2s) -> gametwist.com (36s) -> goatdee.net (2s) -> yahoo.com (20s) -> goatdee.net (8s) -> gametwist.com (2s) -> goatdee.net (6s) -> gametwist.com (18s) -> goatdee.net (6s) -> gametwist.com (26s) -> goatdee.net (46s) -> goatdee.net (40s) -> goatdee.net (15s) -> adshell.net (209s) -> msn.com (207s) -> sport247.live (8s) -> adshell.net (4s) -> sport247.live (7s) -> gametwist.com (6s) -> goatdee.net (4s) -> goatdee.net (2s) -> gametwist.com (16s) -> goatdee.net (36s) -> goatdee.net (22s) -> goatdee.net (30s) -> yahoo.com (185s) -> gametwist.com (8s) -> gametwist.com (3s) -> yahoo.com (12s) -> google.com (46s) -> transfermarkt.de (132s) -> google.com (30s) -> eurosport.de (104s) -> google.com (86s) -> eurosport.de (16s) -> google.com (14s) -> gametwist.com (133s) -> transfermarkt.de (93s) -> sport247.live (26s) -> advertserve.com (4s) -> sport247.live (20s) -> advertserve.com (4s) -> sport247.live (14s) -> adshell.net (2s) -> sport247.live (12s) -> advertserve.com (1s)',\n",
       "  'Thursday 14:32, Visits: weltbild.de (81s) -> weltbild.de (45s)',\n",
       "  'Monday 22:10, Visits: google.com (38s) -> youtube.com (6s)',\n",
       "  'Thursday 18:14, Visits: myway.com (12s) -> postbank.de (10s) -> myway.com (22s) -> google.com (4s) -> myway.com (20s) -> google.com (2s) -> aol.de (14s) -> aol.com (10s) -> showroom.de (12s) -> aol.com (90s) -> youtube.com (56s) -> aol.com (6s) -> catawiki.de (27s)',\n",
       "  'Wednesday 8:48, Visits: msn.com (2s) -> msn.com (84s) -> bing.com (198s) -> gametwist.com (150s) -> yahoo.com (6s) -> yovoco-panel.com (8s) -> yahoo.com (18s) -> goatdee.net (12s) -> youtube.com (224s)',\n",
       "  'Wednesday 16:58, Visits: google.com (245s) -> google.com (134s) -> felgenoutlet.de (54s) -> ford.de (44s) -> felgenoutlet.de (14s) -> ford.de (2s) -> felgenoutlet.de (18s) -> ford.de (8s) -> felgenoutlet.de (198s) -> ford.de (231s) -> ford.de (31s) -> felgenoutlet.de (2s) -> ford.de (2s) -> google.com (2s) -> felgenoutlet.de (36s) -> google.com (160s) -> reifendirekt.de (86s) -> google.com (80s) -> motor-talk.de (6s) -> fordservicecontent.com (98s) -> motor-talk.de (2s) -> fordservicecontent.com (20s) -> ford.de (37s)',\n",
       "  'Tuesday 17:38, Visits: msn.com (104s) -> msn.com (28s) -> youtube.com (16s) -> google.de (297s) -> youtube.com (55s) -> youtube.com (82s) -> youtube.com (5s)',\n",
       "  'Wednesday 12:3, Visits: myway.com (16s) -> postbank.de (12s) -> myway.com (12s) -> google.com (4s)',\n",
       "  'Tuesday 9:8, Visits: web.de (136s) -> web.de (2s) -> ugb.de (643s) -> ugb.de (6s) -> web.de (142s) -> yves-rocher.de (104s) -> web.de (201s) -> web.de (291s) -> web.de (432s) -> norisbank.de (239s) -> web.de (2s) -> paketda.de (102s) -> paketnavigator.de (50s) -> paketda.de (4s) -> web.de (18s) -> web.de (20s)',\n",
       "  'Monday 19:15, Visits: lovescout24.de (4s) -> zeit.de (190s) -> zeit.de (112s) -> lovescout24.de (2066s) -> internationalcupid.com (38s) -> sparkasse-niederlausitz.de (197s) -> sparkasse-niederlausitz.de (21s) -> internationalcupid.com (40s) -> sofort.com (10s) -> sparkasse-niederlausitz.de (80s) -> sofort.com (128s) -> internationalcupid.com (40s) -> google.com (8s) -> internationalcupid.com (26s) -> google.com (24s) -> internationalcupid.com (6s) -> google.com (128s) -> internationalcupid.com (26s) -> google.com (92s) -> internationalcupid.com (46s) -> google.com (158s) -> internationalcupid.com (118s) -> google.com (10s) -> internationalcupid.com (12s) -> google.com (412s) -> internationalcupid.com (281s) -> internationalcupid.com (19s) -> google.com (52s) -> internationalcupid.com (14s) -> google.com (106s) -> internationalcupid.com (172s) -> lovescout24.de (28s) -> google.com (195s)',\n",
       "  'Saturday 14:17, Visits: bing.com (16s) -> bing.com (26s) -> bing.com (2s)',\n",
       "  'Friday 13:50, Visits: medienplantage.de (250s) -> medienplantage.de (2s)',\n",
       "  'Sunday 20:12, Visits: lustcase.com (262s) -> clashofcunts.com (56s) -> lustcase.com (37s) -> clashofcunts.com (16s) -> t-online.de (181s) -> t-online.de (7s) -> netzkino.de (18s) -> clashofcunts.com (6s) -> lustcase.com (2s) -> netzkino.de (363s)',\n",
       "  'Friday 10:41, Visits: startzentrale.de (334s) -> google.de (34s) -> google.com (40s) -> parkandfly.de (68s) -> google.de (9s) -> parkandfly.de (19s) -> google.de (2s) -> parkandfly.de (4s) -> google.de (2s) -> parkandfly.de (6s) -> google.de (14s) -> parkandfly.de (32s) -> google.de (6s) -> parkandfly.de (64s) -> google.de (1051s) -> parkandfly.de (227s)',\n",
       "  'Tuesday 20:35, Visits: google.com (2s) -> moviestarplanet.pl (16s) -> moviestarplanet.de (57s) -> bing.com (3s) -> google.com (38s) -> moviestarplanet.pl (18s) -> moviestarplanet.de (333s)',\n",
       "  'Wednesday 17:10, Visits: lovescout24.de (60s) -> web.de (70s)',\n",
       "  'Thursday 16:7, Visits: deutschepost.de (300s) -> deutschepost.de (58s) -> deutschepost.de (23s) -> google.com (8s) -> vodafone.de (28s) -> google.com (106s) -> vodafone.de (6s) -> aol.de (14s) -> aol.com (8s) -> aol.de (4s) -> aol.com (302s) -> vodafone.de (1s)',\n",
       "  'Thursday 18:57, Visits: youtube.com (88s) -> youtube.com (30s) -> youtube.com (6s) -> youtube.com (34s) -> vodafone.de (2s) -> youtube.com (2s) -> youtube.com (2s)',\n",
       "  'Friday 16:54, Visits: royalgames.com (22s) -> royalgames.com (754s) -> royalgames.com (6s) -> royalgames.com (138s) -> rtl2-spiele.de (207s)',\n",
       "  'Wednesday 19:48, Visits: google.de (4s) -> msn.com (1s) -> google.de (2s) -> msn.com (1s) -> google.de (2s) -> msn.com (1s) -> google.de (51s) -> msn.com (59s) -> google.de (2s) -> msn.com (1s) -> google.de (2s) -> msn.com (1s) -> google.de (2s) -> msn.com (1s) -> google.de (2s) -> msn.com (1s) -> google.de (2s) -> msn.com (1s) -> google.de (2s) -> msn.com (1s) -> google.de (2s) -> msn.com (1s) -> google.de (2s) -> msn.com (1s) -> google.de (1s) -> msn.com (1s) -> bild.de (49s) -> msn.com (233s) -> bild.de (23s) -> msn.com (50s) -> google.de (4s) -> bild.de (158s) -> gmail.com (2s) -> google.com (58s) -> google.de (12s) -> handelsblatt.com (175s)',\n",
       "  'Thursday 13:58, Visits: google.com (17s) -> google.com (22s) -> t-online.de (300s) -> google.com (207s) -> google.com (22s) -> google.com (41s) -> 1und1.de (3s) -> autohaus-steimle.de (6s) -> google.com (20s) -> autohaus-steimle.de (18s) -> 1und1.de (6s) -> google.com (6s) -> teltarif.de (64s) -> golem.de (124s) -> mydealz.de (170s) -> mydealz.de (10s) -> dasoertliche.de (2s) -> google.com (28s) -> entfernungenberechnen.com (64s) -> mydealz.de (2s) -> kaufda.de (22s) -> mydealz.de (10s) -> entfernungenberechnen.com (2s) -> kaufda.de (12s) -> google.com (16s) -> mediamarkt.de (18s) -> redblue.de (10s) -> mediamarkt.de (4s) -> mydealz.de (8s) -> google.com (34s) -> mediamarkt.de (14s) -> redblue.de (16s) -> mydealz.de (2s) -> kaufda.de (2s) -> mydealz.de (30s) -> redblue.de (1s) -> google.com (1s) -> entfernungenberechnen.com (3s) -> redblue.de (2s) -> mediamarkt.de (2s) -> entfernungenberechnen.com (193s) -> redblue.de (3s) -> google.com (4s) -> whatsapp.com (58s) -> mediamarkt.de (2s) -> whatsapp.com (48s) -> redblue.de (6s) -> whatsapp.com (24s) -> mydealz.de (4s) -> whatsapp.com (8s) -> mydealz.de (10s) -> whatsapp.com (3s) -> peugeot.com (11s) -> whatsapp.com (126s) -> peugeot.com (12s) -> peugeot.com (2s) -> premiumsim.de (2s) -> google.com (10s) -> peugeot.com (4s) -> google.com (4s) -> peugeot.com (4s) -> whatsapp.com (28s) -> google.com (6s) -> whatsapp.com (28s) -> google.com (10s) -> whatsapp.com (56s) -> google.com (2s) -> mediamarkt.de (2s) -> whatsapp.com (2s) -> mydealz.de (136s) -> whatsapp.com (8s) -> whatsapp.com (2s) -> peugeot.com (16s) -> mydealz.de (2s) -> peugeot.com (22s) -> peugeot.com (2s) -> peugeot.com (2s) -> whatsapp.com (50s) -> peugeot.com (2s) -> google.com (178s) -> google.com (8s) -> google.com (7s) -> peugeot.com (18s) -> peugeot.com (84s)',\n",
       "  'Sunday 18:37, Visits: myway.com (10s) -> postbank.de (56s) -> myway.com (16s) -> google.com (2s) -> myway.com (4s) -> google.com (4s) -> aol.de (4s) -> aol.com (8s) -> aol.de (12s) -> aol.com (24s) -> facebook.com (126s) -> aol.com (2s) -> aol.de (13s)',\n",
       "  'Tuesday 17:41, Visits: google.com (198s) -> google.com (20s) -> lindt.de (168s) -> google.com (14s) -> lindt.de (186s) -> google.com (44s) -> lindt.de (26s) -> google.com (12s) -> facebook.com (22s) -> google.com (62s) -> facebook.com (2s) -> google.com (24s) -> facebook.com (38s) -> google.com (30s) -> google.com (24s) -> for-me-online.de (378s) -> google.com (165s) -> ndr.de (33s) -> google.com (181s)',\n",
       "  'Tuesday 15:16, Visits: cadooz.com (30s) -> yahoo.com (32s) -> nachspielzeit-community.de (30s) -> yahoo.com (24s) -> perksplus.com (2s) -> yahoo.com (4s) -> perksplus.com (18s) -> yahoo.com (1s) -> yahoo.com (408s) -> xhamster.com (77s)',\n",
       "  'Sunday 7:53, Visits: bild.de (144s) -> bild.de (56s) -> marc-o-polo.com (630s) -> bild.de (464s) -> stimberg-zeitung.de (76s) -> google.com (10s) -> lotto.de (187s)',\n",
       "  'Saturday 21:11, Visits: rtl2-spiele.de (33s) -> rtl2-spiele.de (334s) -> rtl2-spiele.de (114s) -> rtl2-spiele.de (1s)',\n",
       "  'Wednesday 15:2, Visits: uni-bayreuth.de (177s) -> amazon.de (42s)',\n",
       "  'Monday 12:34, Visits: stayfriends.de (7s) -> gfk.de (290s) -> dkb.de (80s) -> santander.de (176s) -> dkb.de (1s)',\n",
       "  'Saturday 10:55, Visits: google.com (30s) -> google.com (18s) -> msi.com (44s) -> movie-blog.to (20s) -> google.com (12s) -> ebay.de (30s) -> google.com (16s) -> targobank.de (2s) -> thermaltake.de (38s) -> ttpremium.eu (204s) -> thermaltake.de (207s) -> thermaltake.de (93s) -> thermaltake.de (10s) -> google.com (4s) -> teamspeak.de (10s) -> google.com (28s) -> steampowered.com (96s) -> thermaltake.de (6s) -> google.com (44s) -> videolan.org (96s) -> thermaltake.de (179s) -> thermaltake.de (5s) -> thermaltake.de (217s) -> gigabyte.com (26s) -> google.com (12s) -> intel.com (126s) -> gigabyte.com (140s) -> thermaltake.de (1s) -> google.com (13s)',\n",
       "  'Saturday 23:13, Visits: google.com (1s) -> google.com (16s) -> elephanttube.com (10s) -> youporn.com (242s) -> elephanttube.com (2s) -> youporn.com (161s)',\n",
       "  'Tuesday 21:10, Visits: ebay.de (559s) -> ebay.de (362s) -> ebay.de (19s) -> google.com (6s) -> wikipedia.org (4s) -> google.com (6s) -> wikipedia.org (18s) -> google.com (1013s) -> rado.com (1375s) -> ebay.de (1878s) -> ebay.de (187s) -> ebay.de (180s)',\n",
       "  'Wednesday 0:32, Visits: t-online.de (102s) -> t-online.de (96s) -> moneygram.de (20s) -> moneygram.com (56s) -> moneygram.de (62s) -> moneygram.com (288s) -> izito.de (86s) -> monito.com (80s) -> izito.de (4s) -> t-online.de (181s)',\n",
       "  'Thursday 6:33, Visits: myway.com (22s) -> postbank.de (16s) -> myway.com (28s) -> google.com (2s) -> myway.com (24s) -> google.com (2s) -> aol.de (28s) -> aol.com (18s) -> facebook.com (14s) -> aol.com (38s) -> myway.com (12s) -> google.com (1488s) -> facebook.com (64s) -> instagram.com (41s)',\n",
       "  'Tuesday 17:54, Visits: google.com (106s) -> google.com (413s) -> google.com (182s) -> google.com (180s) -> google.com (180s) -> google.com (237s) -> google.com (324s) -> google.com (278s) -> google.com (180s) -> google.com (500s) -> google.com (180s) -> google.com (294s) -> google.com (1026s) -> google.com (460s) -> google.com (353s) -> google.com (262s) -> google.com (592s) -> google.com (496s) -> google.com (482s) -> google.com (194s) -> google.com (877s) -> google.com (180s) -> google.com (224s) -> google.com (180s) -> google.com (403s) -> google.com (620s) -> google.com (182s)',\n",
       "  'Saturday 14:50, Visits: postbank.de (16s) -> myway.com (26s) -> google.com (2s) -> myway.com (16s) -> google.com (2s) -> aol.de (28s) -> aol.com (340s) -> facebook.com (5s) -> myway.com (4s) -> aol.de (6s) -> aol.com (36s) -> fid-verlag.de (16s) -> aol.com (454s) -> catawiki.de (16s) -> aol.com (172s) -> catawiki.de (9s)',\n",
       "  'Saturday 17:20, Visits: google.de (239s) -> google.de (5100s) -> spiele-umsonst.de (687s) -> google.de (106s) -> yahoo.com (2s)',\n",
       "  'Tuesday 14:12, Visits: facebook.com (1957s) -> facebook.com (156s) -> unwetterzentrale.de (392s) -> spiegel.de (14s) -> unwetterzentrale.de (4s) -> flugrevue.de (114s) -> youtube.com (30s) -> youtube.com (6s) -> youtube.com (176s) -> youtube.com (17s) -> youtube.com (20s) -> youtube.com (28s) -> youtube.com (16s) -> youtube.com (66s) -> youtube.com (26s) -> youtube.com (8s)'],\n",
       " 'Cluster 1': ['Tuesday 9:44, Visits: youtube.com (118s) -> youtube.com (2s) -> twitter.com (70s) -> twitter.com (24s) -> justnetwork.eu (36s) -> twitter.com (104s) -> google.com (2s) -> duden.de (12s) -> twitter.com (26s) -> justnetwork.eu (164s) -> twitter.com (7s) -> justnetwork.eu (2s) -> duden.de (2s) -> justnetwork.eu (6s) -> youtube.com (266s) -> twitch.tv (1024s) -> youtube.com (8s) -> twitch.tv (2s) -> twitch.tv (4s) -> twitch.tv (2s) -> twitter.com (2s) -> twitch.tv (76s) -> twitch.tv (20s) -> twitch.tv (4s) -> justnetwork.eu (8s) -> twitch.tv (34s) -> mydealz.de (2s) -> justnetwork.eu (52s) -> tz.de (2s) -> justnetwork.eu (6s) -> mydealz.de (334s) -> transfermarkt.de (260s) -> cbc.ca (756s) -> cbc.ca (52s) -> transfermarkt.de (81s) -> transfermarkt.de (158s) -> twitch.tv (16s) -> google.com (14s) -> twitter.com (316s) -> twitter.com (118s) -> twitch.tv (8s) -> mydealz.de (4s) -> justnetwork.eu (10s) -> twitch.tv (4s) -> tz.de (6s) -> twitch.tv (4s) -> transfermarkt.de (10s) -> youtube.com (6s) -> youtube.com (16s) -> youtube.com (20s) -> youtube.com (8s) -> youtube.com (2s) -> twitch.tv (16s) -> tz.de (52s) -> twitch.tv (4s) -> sky.de (13s) -> twitch.tv (8s) -> mydealz.de (6s) -> youtube.com (4s) -> twitch.tv (31s) -> google.com (2s) -> twitch.tv (2s) -> twitch.tv (4s) -> justnetwork.eu (12s) -> mydealz.de (10s) -> twitch.tv (2s) -> twitch.tv (10s) -> mydealz.de (2s) -> justnetwork.eu (14s) -> twitter.com (8s) -> twitch.tv (8s) -> twitch.tv (2s) -> xrel.to (9s) -> twitch.tv (4s) -> twitter.com (2s) -> google.com (470s) -> twitter.com (6s) -> google.com (2s) -> whitecapsfc.com (4s) -> google.com (26s) -> whitecapsfc.com (718s) -> whitecapsfc.com (14s) -> twitch.tv (14s) -> transfermarkt.de (432s) -> youtube.com (196s) -> transfermarkt.de (6s) -> twitch.tv (2s) -> twitch.tv (2s) -> twitch.tv (2s) -> wikia.com (2s) -> google.com (62s) -> google.com (12s) -> gutefrage.net (50s) -> minecraft.net (48s) -> gutefrage.net (294s) -> minecraft.net (8s) -> mydealz.de (78s) -> mojang.com (46s) -> minecraft.net (122s) -> youtube.com (279s) -> youtube.com (191s) -> justnetwork.eu (12s) -> twitter.com (6s) -> justnetwork.eu (2s) -> youtube.com (62s) -> tz.de (10s) -> youtube.com (6s) -> justnetwork.eu (18s) -> twitter.com (104s) -> twitter.com (2s) -> youtube.com (445s) -> youtube.com (1s) -> google.com (17s) -> boredpanda.com (52s) -> google.com (2s) -> youtube.com (816s) -> youtube.com (12s) -> kinderriegel.de (12s) -> youtube.com (267s) -> youtube.com (79s) -> tz.de (80s) -> redbull.com (70s) -> barcaforum.com (292s) -> youtube.com (1s) -> twitch.tv (18s) -> justnetwork.eu (40s) -> twitch.tv (146s) -> mydealz.de (4s) -> twitch.tv (2s) -> google.com (3s) -> wallstreet-online.de (82s) -> google.com (16s) -> google.com (14s) -> google.com (10s) -> microsoft.com (30s) -> google.com (4s) -> microsoft.com (48s) -> google.com (30s) -> google.com (12s) -> google.com (32s) -> twitch.tv (508s) -> twitch.tv (4s) -> google.com (2s) -> sky.de (10s)',\n",
       "  'Tuesday 6:8, Visits: yahoo.com (43s) -> yahoo.com (26s) -> otto.de (106s) -> yahoo.com (6s) -> otto.de (270s) -> facebook.com (2s) -> yahoo.com (1s) -> facebook.com (1s) -> yahoo.com (1s) -> yahoo.com (422s) -> ebay-kleinanzeigen.de (24s) -> google.com (30s) -> ebay-kleinanzeigen.de (63s) -> yahoo.com (30s) -> ebay-kleinanzeigen.de (50s) -> otto.de (32s) -> google.de (442s) -> ikea.com (24s) -> yahoo.com (22s) -> google.de (74s) -> yahoo.com (1s) -> google.de (1s) -> yahoo.com (1128s) -> ebay-kleinanzeigen.de (24s) -> google.com (752s) -> ebay-kleinanzeigen.de (48s) -> google.com (2s) -> grafelstein.com (40s) -> ebay-kleinanzeigen.de (6s) -> yahoo.com (1s) -> ebay-kleinanzeigen.de (2s) -> yahoo.com (1s) -> ebay-kleinanzeigen.de (2s) -> yahoo.com (1s) -> ebay-kleinanzeigen.de (2s) -> yahoo.com (1s) -> ebay-kleinanzeigen.de (2s) -> yahoo.com (2s) -> google.de (9s) -> yahoo.com (187s) -> google.com (75s) -> yahoo.com (310s) -> google.com (2s) -> yahoo.com (24s) -> google.com (6s) -> yahoo.com (1s) -> google.com (1s) -> yahoo.com (212s) -> ebay-kleinanzeigen.de (110s) -> yahoo.com (32s) -> google.com (178s) -> ebay-kleinanzeigen.de (2s) -> yahoo.com (126s) -> ebay-kleinanzeigen.de (68s) -> tchibo.de (10s) -> yahoo.com (28s) -> tchibo.de (288s) -> ebay-kleinanzeigen.de (12s) -> yahoo.com (53s) -> vr-nms.de (38s) -> otto.de (51s)',\n",
       "  'Thursday 21:6, Visits: facebook.com (5s) -> google.com (2s) -> ebay.de (22s) -> facebook.com (179s) -> facebook.com (3s) -> google.com (10s) -> ebay.de (50s) -> google.com (16s) -> 2flirt.com (14s) -> google.com (2s) -> 2flirt.com (26s) -> google.com (22s) -> thepanelstation.com (22s) -> google.com (20s) -> thepanelstation.com (52s) -> google.com (22s) -> google.com (8s) -> google.com (320s) -> crowdtech.com (20s) -> google.com (8s) -> brandinvitation.com (22s) -> google.com (4s) -> facebook.com (1766s) -> facebook.com (179s) -> facebook.com (3s) -> ebay.de (10s) -> google.com (2s) -> facebook.com (183s) -> facebook.com (5s) -> google.de (22s) -> gratisproben.net (54s) -> google.de (2s) -> facebook.com (181s)',\n",
       "  'Monday 22:10, Visits: youtube.com (68s) -> youtube.com (42s) -> youtube.com (34s) -> youtube.com (2s) -> google.com (2s) -> dict.cc (4s) -> youtube.com (2s) -> youtube.com (4s) -> google.com (14s) -> reddit.com (18s) -> youtube.com (11s) -> youtube.com (10s) -> pokedex100.com (38s) -> pokedex100.com (1s) -> pokedex100.com (44s) -> pokedex100.com (8s) -> youtube.com (22s) -> pokedex100.com (45s) -> leekduck.com (12s) -> youtube.com (2s) -> youtube.com (2s) -> youtube.com (4s) -> rocketbeans.tv (60s) -> youtube.com (36s) -> youtube.com (10s) -> youtube.com (2s) -> youtube.com (48s) -> youtube.com (4s) -> youtube.com (2s) -> google.com (6s) -> gamepress.gg (30s) -> google.com (6s) -> youtube.com (24s)',\n",
       "  'Sunday 10:31, Visits: google.com (68s) -> google.com (256s) -> trendscan.de (44s) -> google.com (4s) -> eye-square.com (36s) -> google.com (86s) -> eye-square.com (2s) -> google.com (57s) -> eye-square.com (18s) -> spiegel.de (282s) -> eye-square.com (10s) -> teads.tv (290s) -> eye-square.com (4s) -> harpersbazaar.de (172s) -> eye-square.com (24s) -> google.com (167s) -> eye-square.com (10s) -> bunte.de (158s) -> amazon.de (14s) -> google.de (48s) -> dhl.de (26s) -> amazon.de (116s) -> google.de (1297s) -> amazon.de (1s)',\n",
       "  'Wednesday 13:59, Visits: sfgame.net (13s) -> sfgame.net (32s) -> gmx.net (28s) -> deref-gmx.net (2s) -> gmx.net (3s) -> deref-gmx.net (4s) -> mindtake.com (6s) -> gmx.net (10s) -> deref-gmx.net (30s) -> talkonlinepanel.com (12s) -> gmx.net (8s) -> deref-gmx.net (2s) -> gmx.net (3s) -> insightexpressai.com (8s) -> gmx.net (181s)',\n",
       "  'Saturday 22:59, Visits: sparkasse-moenchengladbach.de (2s) -> sparkasse-moenchengladbach.de (460s) -> sparkasse-moenchengladbach.de (209s) -> sparkasse-moenchengladbach.de (7s) -> borussen.net (272s) -> psd-bb.de (136s) -> borussen.net (2s) -> borussia.de (448s) -> fussballdaten.de (454s) -> fohlen.tv (284s) -> kicker.de (178s) -> tvtv.de (158s) -> tvtv.de (124s) -> t-online.de (177s) -> gmx.net (174s)',\n",
       "  'Tuesday 10:8, Visits: sfgame.net (23s)',\n",
       "  'Monday 7:59, Visits: shpock.com (309s) -> ebay.de (22s) -> shpock.com (284s) -> ebay.de (10s) -> shpock.com (2s) -> sfgame.cz (309s) -> sfgame.cz (256s) -> seafight.com (2s) -> sfgame.cz (613s) -> seafight.com (300s) -> sfgame.cz (1s) -> seafight.com (17s) -> sfgame.cz (8s) -> seafight.com (116s) -> sfgame.cz (14s) -> seafight.com (143s) -> sfgame.cz (41s) -> seafight.com (26s) -> sfgame.cz (22s) -> seafight.com (52s) -> sfgame.cz (34s) -> seafight.com (116s) -> sfgame.cz (16s) -> seafight.com (2s) -> adobe.com (291s) -> seafight.com (13s) -> sfgame.cz (24s) -> seafight.com (42s) -> sfgame.cz (10s) -> seafight.com (90s) -> sfgame.cz (504s) -> seafight.com (6s) -> sfgame.cz (12s) -> seafight.com (333s) -> seafight.com (6s) -> sfgame.cz (298s) -> seafight.com (251s) -> sfgame.cz (44s) -> seafight.com (164s) -> sfgame.cz (1104s) -> seafight.com (2s) -> sfgame.cz (211s) -> seafight.com (43s) -> sfgame.cz (4s) -> seafight.com (253s) -> sfgame.cz (41s) -> seafight.com (519s) -> seafight.com (3s) -> sfgame.cz (557s) -> seafight.com (205s) -> sfgame.cz (174s) -> seafight.com (18s) -> sfgame.cz (485s) -> seafight.com (229s) -> sfgame.cz (48s) -> seafight.com (66s) -> sfgame.cz (251s) -> seafight.com (17s) -> sfgame.cz (98s) -> seafight.com (18s) -> sfgame.cz (167s) -> seafight.com (213s) -> sfgame.cz (82s) -> seafight.com (56s) -> sfgame.cz (606s) -> seafight.com (20s) -> sfgame.cz (171s) -> seafight.com (45s) -> sfgame.cz (214s) -> seafight.com (68s) -> sfgame.cz (197s) -> sfgame.cz (162s) -> seafight.com (75s) -> sfgame.cz (22s) -> seafight.com (22s) -> sfgame.cz (181s) -> seafight.com (400s) -> seafight.com (256s) -> seafight.com (7s) -> sfgame.cz (181s) -> seafight.com (72s) -> seafight.com (31s) -> sfgame.cz (10s) -> seafight.com (203s) -> seafight.com (252s) -> seafight.com (21s) -> sfgame.cz (32s) -> seafight.com (4s) -> sfgame.cz (2s) -> seafight.com (22s) -> sfgame.cz (371s) -> seafight.com (398s) -> seafight.com (3s) -> sfgame.cz (48s) -> seafight.com (148s) -> sfgame.cz (8s) -> seafight.com (344s) -> seafight.com (6s) -> sfgame.cz (111s) -> seafight.com (172s) -> seafight.com (27s) -> sfgame.cz (2s) -> seafight.com (444s) -> seafight.com (42s) -> sfgame.cz (28s) -> seafight.com (84s) -> sfgame.cz (131s) -> seafight.com (245s) -> google.de (380s) -> seafight.com (64s) -> sfgame.cz (22s) -> seafight.com (184s) -> sfgame.cz (16s) -> seafight.com (14s) -> sfgame.cz (66s) -> seafight.com (4s) -> sfgame.cz (189s) -> seafight.com (188s) -> seafight.com (15s) -> sfgame.cz (20s) -> seafight.com (22s) -> sfgame.cz (53s) -> seafight.com (25s) -> sfgame.cz (2s) -> seafight.com (226s) -> sfgame.cz (52s) -> seafight.com (287s) -> sfgame.cz (86s) -> sfgame.cz (160s) -> seafight.com (37s) -> sfgame.cz (16s) -> seafight.com (6s) -> sfgame.cz (16s) -> seafight.com (10s) -> sfgame.cz (2s) -> seafight.com (2s) -> sfgame.cz (304s) -> seafight.com (22s) -> sfgame.cz (50s) -> seafight.com (84s) -> sfgame.cz (30s) -> seafight.com (48s) -> sfgame.cz (64s) -> seafight.com (48s) -> sfgame.cz (40s) -> seafight.com (4s) -> sfgame.cz (94s) -> seafight.com (12s) -> sfgame.cz (34s) -> seafight.com (22s) -> sfgame.cz (20s) -> seafight.com (112s) -> sfgame.cz (58s) -> seafight.com (55s) -> sfgame.cz (583s) -> seafight.com (178s) -> sfgame.cz (4s) -> seafight.com (497s) -> seafight.com (581s) -> sfgame.cz (2s) -> seafight.com (24s) -> sfgame.cz (602s) -> seafight.com (90s) -> sfgame.cz (187s) -> seafight.com (300s) -> sfgame.cz (17s) -> seafight.com (76s) -> google.de (2233s) -> seafight.com (1159s) -> seafight.com (3s) -> sfgame.cz (16s) -> seafight.com (24s) -> sfgame.cz (278s) -> seafight.com (162s) -> sfgame.cz (319s) -> seafight.com (224s) -> seafight.com (399s) -> seafight.com (443s) -> seafight.com (583s) -> seafight.com (630s) -> seafight.com (78s) -> sfgame.cz (196s) -> seafight.com (144s) -> sfgame.cz (111s) -> sfgame.cz (171s) -> sfgame.cz (23s) -> seafight.com (108s) -> shpock.com (28s) -> ebay.de (27s) -> seafight.com (110s) -> sfgame.cz (34s) -> seafight.com (52s) -> sfgame.cz (96s) -> seafight.com (194s) -> seafight.com (2s) -> sfgame.cz (2s) -> seafight.com (305s) -> seafight.com (237s) -> sfgame.cz (363s) -> seafight.com (331s) -> sfgame.cz (4s) -> seafight.com (84s) -> sfgame.cz (2s) -> seafight.com (130s) -> sfgame.cz (2s) -> seafight.com (2s) -> adobe.com (2s) -> seafight.com (86s) -> sfgame.cz (2s) -> seafight.com (188s) -> sfgame.cz (2272s) -> seafight.com (144s) -> sfgame.cz (90s) -> seafight.com (246s) -> seafight.com (39s) -> freenet.de (60s) -> deutschlandcard.de (18s) -> seafight.com (94s) -> deutschlandcard.de (52s) -> freenet.de (12s) -> adcell.de (2s) -> gleichklang.de (6s) -> freenet.de (56s) -> sfgame.cz (2s) -> freenet.de (2s) -> ebesucher.de (2s) -> freenet.de (36s) -> ebesucher.de (4s) -> freenet.de (18s) -> adcell.de (2s) -> sneakerprofi.de (12s) -> freenet.de (72s) -> ebesucher.de (6s) -> nivea.de (10s) -> freenet.de (26s) -> ebesucher.de (4s) -> freenet.de (16s) -> ebesucher.de (2s) -> freenet.de (18s) -> ebesucher.de (2s) -> freenet.de (22s) -> ebesucher.de (2s) -> freenet.de (8s) -> adcell.de (2s) -> if-change.de (4s) -> freenet.de (6s) -> questler.de (2s) -> freenet.de (10s) -> ebesucher.de (4s) -> freenet.de (8s) -> ebesucher.de (2s) -> freenet.de (10s) -> ebesucher.de (2s) -> freenet.de (4s) -> ebesucher.de (4s) -> freenet.de (6s) -> ebesucher.de (2s) -> freenet.de (28s) -> ebesucher.de (2s) -> ebesucher.de (2s) -> freenet.de (38s) -> ebesucher.de (2s) -> freenet.de (54s) -> amazon.de (6s) -> freenet.de (8s) -> ebesucher.de (2s) -> freenet.de (6s) -> ebesucher.de (2s) -> freenet.de (6s) -> questler.de (2s) -> adcell.de (2s) -> softperten.de (6s) -> freenet.de (32s) -> ebesucher.de (2s) -> freenet.de (8s) -> ebesucher.de (2s) -> freenet.de (44s) -> ebesucher.de (236s) -> freenet.de (2s) -> ebesucher.de (2s) -> freenet.de (2s) -> prntscr.com (1s) -> prnt.sc (7s) -> freenet.de (2s) -> prntscr.com (1s) -> prnt.sc (177s) -> prnt.sc (3s) -> seafight.com (6s) -> sfgame.cz (485s) -> seafight.com (159s) -> sfgame.cz (441s) -> seafight.com (45s) -> sfgame.cz (4s) -> seafight.com (240s) -> sfgame.cz (897s) -> seafight.com (3s) -> sfgame.cz (887s) -> seafight.com (227s) -> facebook.com (2s) -> seafight.com (8s) -> facebook.com (88s) -> seafight.com (14s) -> facebook.com (8s) -> seafight.com (182s) -> facebook.com (154s) -> seafight.com (32s) -> facebook.com (171s) -> seafight.com (45s) -> facebook.com (42s) -> seafight.com (118s) -> facebook.com (6s) -> seafight.com (6s) -> facebook.com (20s) -> seafight.com (12s) -> facebook.com (24s) -> seafight.com (36s) -> facebook.com (20s) -> seafight.com (6s) -> facebook.com (42s) -> seafight.com (16s) -> facebook.com (16s) -> seafight.com (2s) -> facebook.com (29s) -> seafight.com (73s) -> facebook.com (70s) -> seafight.com (928s) -> facebook.com (72s) -> sfgame.cz (900s) -> facebook.com (351s) -> sfgame.cz (4s) -> facebook.com (786s) -> facebook.com (140s) -> seafight.com (91s) -> facebook.com (5s) -> sfgame.cz (86s) -> facebook.com (36s) -> ebay.de (2s) -> shpock.com (498s) -> ebay.de (4s) -> sfgame.cz (413s) -> ebay.de (17s) -> dhl.de (14s) -> ebay.de (6s) -> dhl.de (354s) -> ebay.de (30s) -> facebook.com (14s) -> google.de (32s) -> facebook.com (78s) -> google.com (202s) -> google.com (142s) -> facebook.com (64s) -> google.com (324s) -> facebook.com (48s) -> sfgame.cz (308s) -> facebook.com (18s) -> sfgame.cz (634s) -> facebook.com (14s) -> seafight.com (2s) -> sfgame.cz (183s) -> sfgame.cz (971s) -> ebay.de (3s)',\n",
       "  'Monday 22:41, Visits: bing.com (640s) -> t-online.de (78s) -> telekom.com (12s) -> t-online.de (8s) -> telekom.com (36s) -> t-online.de (14s) -> stage-entertainment.de (338s) -> t-online.de (254s) -> google.com (8s) -> t-online.de (5s) -> google.com (153s) -> t-online.de (14s) -> andrewchristian.com (223s) -> t-online.de (230s) -> tipp24.com (869s) -> t-online.de (1188s) -> facebook.com (136s) -> t-online.de (220s) -> t-online.de (275s) -> t-online.de (1s)',\n",
       "  'Wednesday 16:53, Visits: zyngagames.com (1120s) -> zyngagames.com (483s) -> facebook.com (743s) -> otto.de (2s) -> google.de (2s) -> wetter.com (44s) -> google.de (36s) -> mecklenburg-schwerin.de (84s) -> google.de (463s) -> booking.com (2s) -> google.de (178s) -> trivago.de (2s) -> expedia.de (66s) -> trivago.de (9s)',\n",
       "  'Wednesday 18:22, Visits: check24.de (254s) -> web.de (2s) -> sparkasse-bayreuth.de (2s) -> web.de (28s) -> ebay.de (10s) -> sparkasse-bayreuth.de (38s) -> ebay.de (108s) -> sparkasse-bayreuth.de (16s) -> ebay.de (12s) -> sparkasse-bayreuth.de (4s) -> ebay.de (6s) -> sparkasse-bayreuth.de (18s) -> ebay.de (88s) -> sparkasse-bayreuth.de (102s) -> ebay.de (162s) -> sparkasse-bayreuth.de (16s) -> ebay-kleinanzeigen.de (594s) -> ebay.de (32s) -> ebay-kleinanzeigen.de (26s) -> check24.de (1s) -> ebay-kleinanzeigen.de (1s) -> check24.de (621s) -> ebay-kleinanzeigen.de (66s) -> check24.de (156s) -> lanzarote37.net (231s) -> facebook.com (51s) -> lanzarote37.net (4s) -> check24.de (1s) -> lanzarote37.net (2s) -> check24.de (2s) -> google.com (348s) -> wahl-o-mat.de (68s) -> check24.de (72s) -> web.de (228s) -> tuifly.com (50s) -> autoreisen.com (6s) -> google.com (12s) -> bayreuther-sonntagszeitung.de (49s) -> inbayreuth.de (19s) -> bayreuther-sonntagszeitung.de (146s) -> inbayreuth.de (222s) -> bayreuther-sonntagszeitung.de (23s) -> check24.de (1s) -> bayreuther-sonntagszeitung.de (1s) -> check24.de (25s) -> sparkasse-bayreuth.de (1068s) -> check24.de (142s) -> parkflyandrepair.de (196s) -> facebook.com (40s) -> google.com (4s) -> facebook.com (34s) -> web.de (124s) -> parkflyandrepair.de (174s) -> web.de (18s) -> parkflyandrepair.de (2s)',\n",
       "  'Wednesday 21:43, Visits: gmx.net (32s) -> gmx.net (120s) -> meine-vrbank.de (4s) -> gmx.net (70s) -> meine-vrbank.de (10s) -> gmx.net (10s) -> meine-vrbank.de (4s) -> gmx.net (176s) -> meine-vrbank.de (10s) -> booklooker.de (14s) -> ebay.de (160s) -> ebay-kleinanzeigen.de (214s) -> ebay-kleinanzeigen.de (64s) -> gmx.net (322s) -> deref-gmx.net (4s) -> blau.de (64s) -> gmx.net (180s) -> momox.de (2s) -> gmx.net (10s) -> ebay-kleinanzeigen.de (32s) -> ebay.de (70s) -> hood.de (52s) -> markt.de (1s)',\n",
       "  'Tuesday 16:0, Visits: facebook.com (8s) -> pinterest.de (14s) -> foodwithlove.de (55s) -> pinterest.de (1s) -> blogspot.com (133s) -> pinterest.de (88s) -> web.de (4s) -> web.de (160s) -> ebay-kleinanzeigen.de (128s) -> ebay.de (174s) -> facebook.com (10s) -> pinterest.de (30s) -> chefkoch.de (18s) -> pinterest.de (104s) -> wetter.com (38s) -> youtube.com (144s)',\n",
       "  'Wednesday 17:49, Visits: myfreefarm.de (7s) -> facebook.com (16s) -> ebay-kleinanzeigen.de (12s) -> myfreefarm.de (178s) -> kapihospital.com (222s) -> myfreefarm.de (10s) -> gmx.net (2s) -> facebook.com (32s) -> finya.de (6s) -> myfreefarm.de (1s) -> finya.de (2s) -> myfreefarm.de (1s) -> finya.de (1s) -> myfreefarm.de (1s) -> google.com (99s) -> chefkoch.de (22s) -> myfreefarm.de (181s) -> myfreefarm.de (11s) -> ebay-kleinanzeigen.de (14s) -> myfreefarm.de (205s) -> myfreefarm.de (1s) -> facebook.com (175s) -> myfreefarm.de (114s) -> kapihospital.com (244s) -> facebook.com (16s) -> myfreefarm.de (4s) -> kapihospital.com (232s) -> myfreefarm.de (2s) -> kapihospital.com (344s) -> targobank.de (4s) -> kapihospital.com (339s) -> kapihospital.com (261s) -> tvspielfilm.de (150s) -> myfreefarm.de (2s) -> kapihospital.com (204s) -> ebay-kleinanzeigen.de (36s) -> google.com (106s) -> fitundvitalreisen.de (120s) -> warmbad.de (62s) -> google.de (10s) -> warmbad.de (50s) -> google.de (22s) -> warmbad.de (594s) -> fitundvitalreisen.de (80s) -> google.de (6s) -> fitundvitalreisen.de (130s) -> google.com (272s) -> booking.com (88s) -> fitundvitalreisen.de (60s) -> google.com (10s) -> spar-mit.com (64s) -> google.com (56s) -> fitundvitalreisen.de (1s) -> google.com (1s) -> fitundvitalreisen.de (42s) -> google.com (156s) -> travelcircus.de (42s) -> fitundvitalreisen.de (12s) -> google.com (50s) -> bad-schandau.de (1056s) -> fitundvitalreisen.de (134s) -> google.de (29s) -> fitundvitalreisen.de (39s) -> fitundvitalreisen.de (52s) -> warmbad.de (90s) -> fitundvitalreisen.de (4s) -> google.de (40s) -> finya.de (2s) -> facebook.com (108s) -> kristall-saunatherme-bad-klosterlausnitz.de (10s) -> therme-bodetal.de (16s) -> ebay-kleinanzeigen.de (46s) -> kristall-saunatherme-bad-klosterlausnitz.de (53s) -> inpiazza.de (17s) -> kristall-saunatherme-bad-klosterlausnitz.de (318s) -> fitundvitalreisen.de (24s) -> google.com (20s) -> toskanaworld.net (176s) -> toskanaworld.net (6s) -> fitundvitalreisen.de (40s) -> google.de (20s) -> fitundvitalreisen.de (72s) -> google.de (12s) -> fitundvitalreisen.de (30s) -> google.de (34s) -> fitundvitalreisen.de (12s) -> google.com (48s) -> toskanaworld.net (54s) -> google.com (8s) -> schmilka.de (72s) -> toskanaworld.net (10s) -> toskanaworld.net (52s) -> schmilka.de (76s) -> google.com (30s) -> saechsische-schweiz.de (30s) -> schmilka.de (6s) -> saechsische-schweiz.de (2s) -> toskanaworld.net (40s) -> toskanaworld.net (8s) -> toskanaworld.net (4s) -> google.com (92s) -> biohotels.info (12s) -> google.com (8s) -> ardmediathek.de (142s) -> google.com (6s) -> saechsische-schweiz.de (2058s) -> schmilka.de (162s) -> saechsische-schweiz.de (116s) -> schmilka.de (2s) -> toskanaworld.net (28s) -> google.com (16s) -> toskanaworld.net (22s) -> toskanaworld.net (6s) -> schmilka.de (2s) -> toskanaworld.net (2s) -> fitundvitalreisen.de (6s) -> schmilka.de (26s) -> google.de (454s) -> schmilka.de (30s) -> google.com (92s) -> schmilka.de (74s) -> google.com (26s) -> schmilka.de (22s) -> ebay-kleinanzeigen.de (16s) -> myfreefarm.de (14s) -> facebook.com (10s) -> pinterest.de (22s) -> facebook.com (10s) -> myfreefarm.de (352s) -> kapihospital.com (2s) -> myfreefarm.de (17s)',\n",
       "  'Thursday 5:29, Visits: google.com (11s) -> schulterglatze.de (6s) -> diesiedleronline.de (66s) -> schulterglatze.de (2s) -> diesiedleronline.de (210s) -> facebook.com (495s) -> facebook.com (351s) -> facebook.com (236s) -> schulterglatze.de (445s) -> diesiedleronline.de (11s) -> schulterglatze.de (10s) -> diesiedleronline.de (385s) -> diesiedleronline.de (7s) -> schulterglatze.de (84s) -> diesiedleronline.de (48s) -> facebook.com (22s) -> twistedsifter.com (72s) -> facebook.com (117s)',\n",
       "  'Friday 14:34, Visits: ebay-kleinanzeigen.de (65s) -> ebay-kleinanzeigen.de (110s) -> meine-vrbank.de (6s) -> ebay-kleinanzeigen.de (252s) -> ebay.de (204s) -> ebay.de (330s) -> rezeptwelt.de (455s) -> rezeptwelt.de (180s)',\n",
       "  'Sunday 19:36, Visits: n-tv.de (181s) -> n-tv.de (39s) -> wallstreet-online.de (18s) -> live.com (42s) -> sparwelt.de (34s) -> live.com (24s) -> sparwelt.de (78s) -> live.com (2s) -> yahoo.com (2s) -> live.com (114s) -> yahoo.com (13s)',\n",
       "  'Sunday 12:35, Visits: google.de (66s) -> ebay.de (68s) -> all-in.de (112s) -> ebay.de (1s) -> all-in.de (1s) -> ebay.de (1s) -> google.de (36s) -> facebook.com (616s) -> google.de (18s) -> sfgame.net (144s) -> facebook.com (396s) -> sfgame.net (22s) -> facebook.com (428s) -> sfgame.net (14s) -> facebook.com (84s) -> ebay.de (265s) -> facebook.com (7s) -> sfgame.net (8s) -> facebook.com (170s) -> ebay.de (4s) -> facebook.com (30s) -> sfgame.net (103s) -> facebook.com (236s) -> facebook.com (1s) -> sfgame.net (13s) -> facebook.com (68s) -> google.de (2s) -> n-tv.de (198s) -> facebook.com (220s) -> sfgame.net (260s) -> facebook.com (8s) -> ebay.de (376s) -> facebook.com (18s) -> sfgame.net (84s) -> facebook.com (200s) -> sfgame.net (24s) -> facebook.com (680s) -> sfgame.net (20s) -> facebook.com (98s) -> ebay.de (4s) -> facebook.com (782s) -> sfgame.net (44s) -> facebook.com (420s) -> sfgame.net (28s) -> facebook.com (302s) -> sfgame.net (56s) -> facebook.com (78s) -> ebay.de (14s) -> facebook.com (1394s) -> facebook.com (2s) -> sfgame.net (510s) -> facebook.com (110s) -> sfgame.net (10s) -> facebook.com (2s) -> ebay.de (4s) -> facebook.com (316s) -> sfgame.net (14s) -> facebook.com (172s) -> sfgame.net (230s) -> facebook.com (14s) -> sfgame.net (502s) -> facebook.com (48s) -> sfgame.net (10s) -> ebay.de (24s) -> facebook.com (1232s) -> sfgame.net (8s) -> facebook.com (320s) -> sfgame.net (36s) -> facebook.com (227s) -> facebook.com (3s) -> sfgame.net (7s) -> facebook.com (1s) -> ebay.de (3s) -> facebook.com (649s) -> facebook.com (9s) -> sfgame.net (20s) -> facebook.com (24s) -> ebay.de (853s) -> facebook.com (1435s) -> sfgame.net (82s) -> facebook.com (338s) -> sfgame.net (10s) -> facebook.com (357s) -> facebook.com (287s) -> sfgame.net (96s) -> ebay.de (2s) -> facebook.com (402s) -> sfgame.net (10s) -> facebook.com (228s) -> sfgame.net (12s) -> ebay.de (8s) -> facebook.com (256s) -> google.de (10s) -> chefkoch.de (36s) -> facebook.com (108s) -> google.de (205s) -> facebook.com (729s) -> sfgame.net (50s) -> facebook.com (2s) -> ebay.de (119s) -> facebook.com (529s) -> sfgame.net (60s) -> ebay.de (2s) -> facebook.com (181s) -> facebook.com (3s) -> sfgame.net (12s) -> google.de (10s) -> n-tv.de (122s) -> facebook.com (2s) -> ebay.de (14s) -> facebook.com (528s) -> sfgame.net (46s) -> ebay.de (2s) -> facebook.com (78s) -> google.de (10s) -> wetter-allgaeu.de (20s) -> google.de (20s) -> meteocentrale.ch (6s) -> wetter-allgaeu.de (8s) -> facebook.com (30s) -> sfgame.net (26s) -> ebay.de (4s) -> facebook.com (146s) -> ebay.de (2s) -> facebook.com (88s) -> sfgame.net (12s) -> ebay.de (4s) -> facebook.com (150s) -> ebay.de (104s) -> facebook.com (8s) -> sfgame.net (22s) -> ebay.de (124s) -> facebook.com (102s) -> ebay.de (4s) -> facebook.com (80s) -> sfgame.net (10s) -> ebay.de (4s) -> facebook.com (318s) -> ebay.de (66s) -> sfgame.net (10s) -> facebook.com (218s) -> sfgame.net (142s) -> ebay.de (12s) -> facebook.com (54s) -> sfgame.net (26s) -> facebook.com (653s) -> facebook.com (347s) -> ebay.de (12s) -> sfgame.net (194s) -> facebook.com (2s) -> sfgame.net (4s) -> facebook.com (348s) -> ebay.de (4s) -> sfgame.net (12s) -> facebook.com (144s) -> ebay.de (2s) -> sfgame.net (2s) -> facebook.com (170s) -> sfgame.net (62s) -> facebook.com (38s) -> ebay.de (4s) -> facebook.com (334s) -> sfgame.net (12s) -> ebay.de (6s) -> facebook.com (34s) -> sfgame.net (24s) -> facebook.com (106s) -> sfgame.net (33s) -> facebook.com (161s) -> ebay.de (8s) -> facebook.com (136s) -> sfgame.net (16s) -> ebay.de (4s) -> facebook.com (140s) -> sfgame.net (10s) -> facebook.com (391s) -> facebook.com (5s) -> sfgame.net (10s) -> facebook.com (14s) -> google.de (24s) -> youtube.com (44s) -> facebook.com (200s) -> youtube.com (42s) -> facebook.com (48s) -> youtube.com (60s) -> facebook.com (4s) -> sfgame.net (14s) -> facebook.com (406s) -> youtube.com (2s) -> facebook.com (8s) -> sfgame.net (26s) -> youtube.com (2s) -> facebook.com (74s) -> youtube.com (16s) -> facebook.com (6s) -> youtube.com (24s) -> facebook.com (122s) -> youtube.com (4s) -> facebook.com (12s) -> youtube.com (6s) -> facebook.com (4s) -> sfgame.net (4s) -> youtube.com (6s) -> facebook.com (56s) -> youtube.com (4s) -> facebook.com (54s) -> sfgame.net (34s) -> facebook.com (138s) -> ebay.de (4s) -> facebook.com (22s) -> youtube.com (2s) -> facebook.com (28s) -> youtube.com (24s) -> facebook.com (62s) -> sfgame.net (6s) -> youtube.com (8s) -> facebook.com (46s) -> ebay.de (8s) -> sfgame.net (6s) -> facebook.com (16s) -> youtube.com (26s) -> facebook.com (73s) -> youtube.com (23s) -> facebook.com (130s) -> youtube.com (4s) -> facebook.com (30s) -> youtube.com (8s) -> facebook.com (10s) -> ebay.de (4s) -> sfgame.net (8s) -> facebook.com (8s) -> youtube.com (4s) -> facebook.com (36s) -> youtube.com (54s) -> facebook.com (84s) -> sfgame.net (2s) -> facebook.com (46s) -> youtube.com (4s) -> facebook.com (54s) -> youtube.com (6s) -> facebook.com (4s) -> ebay.de (6s) -> facebook.com (70s) -> youtube.com (46s) -> facebook.com (110s) -> youtube.com (74s) -> facebook.com (44s) -> sfgame.net (6s) -> facebook.com (66s) -> ebay.de (4s) -> sfgame.net (10s) -> facebook.com (156s) -> youtube.com (89s) -> facebook.com (3s) -> youtube.com (4s) -> facebook.com (14s) -> ebay.de (6s) -> facebook.com (286s) -> youtube.com (36s) -> sfgame.net (16s) -> facebook.com (12s) -> youtube.com (208s) -> youtube.com (2s) -> facebook.com (28s) -> sfgame.net (14s) -> youtube.com (222s) -> youtube.com (6s) -> facebook.com (142s) -> youtube.com (179s) -> youtube.com (180s) -> youtube.com (180s) -> youtube.com (3s) -> facebook.com (54s) -> youtube.com (6s) -> sfgame.net (12s) -> youtube.com (6s) -> facebook.com (52s) -> youtube.com (6s) -> facebook.com (24s) -> youtube.com (26s) -> facebook.com (2s) -> ebay.de (34s) -> facebook.com (10s) -> youtube.com (30s) -> facebook.com (74s) -> youtube.com (56s) -> facebook.com (152s) -> youtube.com (8s) -> sfgame.net (14s) -> youtube.com (46s) -> facebook.com (38s) -> ebay.de (4s) -> sfgame.net (2s) -> facebook.com (212s) -> youtube.com (181s) -> youtube.com (197s) -> sfgame.net (6s) -> facebook.com (8s) -> youtube.com (357s) -> youtube.com (3s) -> google.de (4s) -> gutefrage.net (26s) -> google.de (26s) -> welt.de (72s) -> youtube.com (34s) -> facebook.com (2s) -> sfgame.net (14s) -> facebook.com (64s) -> youtube.com (197s) -> youtube.com (182s) -> youtube.com (3s) -> facebook.com (76s) -> youtube.com (22s) -> sfgame.net (8s) -> facebook.com (26s) -> youtube.com (154s) -> ebay.de (10s) -> sfgame.net (2s) -> facebook.com (2s) -> youtube.com (140s) -> facebook.com (16s) -> youtube.com (210s) -> facebook.com (2s) -> sfgame.net (6s) -> facebook.com (248s) -> youtube.com (6s) -> sfgame.net (6s) -> facebook.com (172s) -> youtube.com (2s) -> facebook.com (2s) -> sfgame.net (44s) -> youtube.com (14s) -> facebook.com (2s) -> sfgame.net (99s) -> facebook.com (81s) -> youtube.com (38s) -> facebook.com (10s) -> youtube.com (66s) -> facebook.com (18s) -> youtube.com (18s) -> facebook.com (24s) -> youtube.com (26s) -> facebook.com (368s) -> youtube.com (32s) -> facebook.com (478s) -> youtube.com (183s)',\n",
       "  'Tuesday 16:19, Visits: facebook.com (70s) -> facebook.com (4s) -> amazon.de (2s) -> kaspersky.com (996s) -> amazon.de (46s) -> hypovereinsbank.de (6s) -> amazon.de (50s) -> facebook.com (48s) -> live.com (183s) -> live.com (19s) -> msn.com (22s) -> parship.de (196s) -> parship.de (56s) -> parship.de (36s) -> live.com (181s) -> live.com (51s) -> parship.de (13s) -> live.com (16s) -> gdp-group.com (178s) -> live.com (54s) -> live.com (174s) -> parship.de (14s) -> facebook.com (151s)',\n",
       "  'Thursday 19:44, Visits: myfreefarm.de (52s) -> finya.de (2s) -> myfreefarm.de (4s) -> finya.de (234s) -> myfreefarm.de (332s) -> kapihospital.com (56s) -> gmx.net (82s) -> facebook.com (88s) -> myfreefarm.de (8s) -> kapihospital.com (210s) -> ebay-kleinanzeigen.de (2s) -> myfreefarm.de (148s) -> kapihospital.com (2s) -> myfreefarm.de (179s)',\n",
       "  'Saturday 12:50, Visits: volksbank-raiffeisenbank-regensburg-schwandorf.de (504s) -> volksbank-raiffeisenbank-regensburg-schwandorf.de (207s) -> web.de (2s) -> volksbank-raiffeisenbank-regensburg-schwandorf.de (1s) -> web.de (1s) -> volksbank-raiffeisenbank-regensburg-schwandorf.de (51s) -> web.de (24s) -> web.de (82s) -> ebay.de (2059s) -> gameduell.de (27s) -> gameduell.de (64s) -> gameduell.de (1242s) -> gameduell.de (73s) -> ebay.de (73s)',\n",
       "  'Friday 11:24, Visits: yahoo.com (14s) -> amazon.de (8s) -> ebay.de (160s) -> yahoo.com (86s) -> focus.de (288s) -> yahoo.com (10s) -> ebay.de (185s) -> focus.de (21s) -> yahoo.com (6s) -> decisionanalyst.com (6s) -> yahoo.com (55s) -> dkb.de (6s) -> focus.de (16s) -> yahoo.com (28s) -> ebay.de (2s) -> yahoo.com (36s) -> focus.de (20s) -> n-tv.de (227s) -> n-tv.de (5s) -> n-tv.de (30s) -> yahoo.com (90s) -> schwarzkopfforyou.de (62s) -> yahoo.com (78s) -> focus.de (98s) -> ebay.de (179s) -> ebay.de (9s) -> google.de (24s) -> amazon.de (33s) -> google.de (22s) -> amazon.de (4s) -> yahoo.com (2s) -> schwarzkopfforyou.de (12s) -> ebay.de (2s) -> focus.de (2s) -> ebay.de (6s) -> yahoo.com (2s) -> schwarzkopfforyou.de (10s) -> yahoo.com (24s)',\n",
       "  'Thursday 19:8, Visits: youtube.com (181s) -> ebay.de (1s) -> wortbedeutung.info (1s) -> youtube.com (1363s) -> ebay.de (74s) -> thefreedictionary.com (481s) -> ebay.de (514s) -> youtube.com (234s)',\n",
       "  'Friday 9:37, Visits: google.com (4s) -> google.com (32s) -> zeit.de (18s) -> mozilla.org (6s) -> zeit.de (268s) -> google.com (16s) -> zeit.de (14s) -> google.com (22s) -> google.com (6s) -> foodora.de (112s) -> google.com (182s) -> zeit.de (64s) -> google.com (6s) -> zeit.de (82s) -> google.com (6s) -> gmx.net (4s) -> google.com (22s) -> gmx.net (34s) -> google.com (6s) -> utopia.de (653s) -> utopia.de (1s) -> chip.de (3s) -> utopia.de (134s) -> ebay.de (255s) -> ebay.de (5s) -> mozilla.org (386s) -> gmx.net (72s) -> whatsapp.com (324s) -> gmx.net (4s) -> ebay.de (44s) -> gmx.net (502s) -> ebay.de (42s) -> chip.de (12s) -> mailbox.org (20s) -> posteo.de (38s) -> utopia.de (30s) -> gmx.net (70s) -> gmx.net (26s) -> google.com (118s) -> jobworld.de (4s) -> gmx.net (2s) -> telegram.org (4s) -> gmx.net (44s) -> telegram.org (72s) -> google.com (14s) -> posteo.de (112s) -> mailbox.org (2s) -> google.com (8s) -> gmx.net (4s) -> telegram.org (2s) -> gmx.net (2s) -> google.com (20s) -> mailbox.org (68s) -> arbeitszeugnis.de (2s) -> gmx.net (4s) -> telegram.org (112s) -> arbeitszeugnis.de (2s) -> arbeitszeugnis.de (6s) -> google.com (4s) -> telegram.org (2s) -> gmx.net (2s) -> google.com (204s) -> gmx.net (18s) -> xing-news.com (20s) -> business-punk.com (60s) -> ebay.de (14s) -> xing-news.com (36s) -> gmx.net (64s) -> xing.com (12s) -> streetspotr.com (84s) -> xing-news.com (2s) -> gmx.net (34s) -> deref-gmx.net (2s) -> gmx.net (12s) -> audimax.de (242s) -> telegram.org (248s) -> audimax.de (20s) -> google.com (6s) -> audimax.de (12s) -> deezer.com (2s) -> google.com (2s) -> audimax.de (16s) -> google.com (2s) -> audimax.de (12s) -> google.com (4s) -> audimax.de (10s) -> google.com (22s) -> audimax.de (2s) -> audimax.de (4s) -> telegram.org (6s) -> gmx.net (20s) -> google.com (38s) -> posteo.de (46s) -> telegram.org (32s) -> posteo.de (32s) -> google.com (2s) -> mailbox.org (2s) -> google.com (4s) -> chip.de (6s) -> mailbox.org (36s) -> posteo.de (13s) -> telegram.org (2s) -> posteo.de (2s) -> mailbox.org (160s) -> posteo.de (6s) -> mailbox.org (4s) -> chip.de (180s) -> mailbox.org (4s) -> posteo.de (122s) -> mailbox.org (24s) -> posteo.de (166s) -> gmx.net (2s) -> mailbox.org (2s) -> posteo.de (4s) -> mailbox.org (28s) -> google.com (10s) -> wikipedia.org (132s) -> mailbox.org (8s) -> google.com (4s) -> mailbox.org (24s) -> wikipedia.org (4s) -> jpberlin.de (16s) -> wikipedia.org (6s) -> linux-magazin.de (46s) -> gmx.net (24s) -> posteo.de (2s) -> chip.de (32s) -> google.com (20s) -> wikipedia.org (36s) -> protonmail.com (4s) -> wikipedia.org (146s) -> protonmail.com (7s) -> protonmail.com (11s) -> wikipedia.org (8s) -> protonmail.com (88s) -> gmx.net (4s) -> protonmail.com (1s) -> gmx.net (1s) -> protonmail.com (1s) -> chip.de (3s) -> wikipedia.org (10s) -> gmx.net (1s) -> telegram.org (10s) -> gmx.net (114s) -> protonmail.com (438s) -> protonmail.com (42s) -> google.com (8s) -> wikipedia.org (207s) -> tutanota.com (1s) -> posteo.de (89s) -> tutanota.com (2s) -> google.com (6s) -> wikipedia.org (517s) -> tutanota.com (243s) -> tutanota.com (260s) -> gmx.net (30s) -> deref-gmx.net (40s) -> tutanota.com (2s) -> google.com (2s) -> posteo.de (20s) -> tutanota.com (2s) -> google.com (6s) -> tutanota.com (26s) -> google.com (32s) -> stern.de (98s) -> computerbase.de (174s) -> proadz.de (106s) -> posteo.de (44s) -> wikipedia.org (136s) -> telegram.org (46s) -> wikipedia.org (72s) -> posteo.de (4s) -> telegram.org (6s) -> wikipedia.org (4s) -> google.com (6s) -> posteo.de (24s) -> wikipedia.org (10s) -> posteo.de (2s) -> wikipedia.org (4s) -> posteo.de (8s) -> mailbox.org (28s) -> telegram.org (2s) -> whatsapp.com (2s) -> mailbox.org (318s) -> gmx.net (2s) -> wikipedia.org (2s) -> posteo.de (24s) -> paypal.de (168s) -> paypal.com (476s) -> ebay.de (12s) -> paypal.com (2s) -> telegram.org (568s) -> gmx.net (305s) -> whatsapp.com (83s) -> gmx.net (2s) -> whatsapp.com (160s) -> mailbox.org (4s) -> lottoland.de (15s) -> lottoland.com (2s) -> mailbox.org (179s) -> mailbox.org (1s) -> posteo.de (19s) -> mailbox.org (6s) -> posteo.de (46s) -> wikipedia.org (66s) -> gmx.net (78s) -> protonmail.com (8s) -> mail.de (38s) -> google.com (4s) -> oath.com (32s) -> yahoo.com (40s) -> google.com (10s) -> aol.com (24s) -> posteo.de (120s) -> gmx.net (96s) -> posteo.de (33s)',\n",
       "  'Friday 13:55, Visits: google.com (52s) -> google.com (527s) -> net-request.de (4s) -> google.com (62s) -> amazon.de (1s)',\n",
       "  'Tuesday 17:3, Visits: smoothjazz.com (164s) -> ebay.de (108s) -> google.de (4s) -> facebook.com (10s) -> google.de (2s) -> facebook.com (8s) -> google.de (26s) -> google.com (10s) -> google.de (24s) -> facebook.com (4s) -> google.de (28s) -> youtube.com (6s) -> google.de (6s) -> schule-bw.de (38s) -> google.de (2s) -> twitter.com (8s) -> google.de (34s) -> google.com (30s) -> google.de (36s) -> google.de (2s) -> facebook.com (2s) -> google.de (14s) -> facebook.com (12s) -> google.com (28s) -> ebay.de (762s) -> ebay.de (20s) -> smoothjazz.com (128s) -> ebay.de (12s) -> smoothjazz.com (2s) -> smoothjazz.com (2s) -> smoothjazz.com (120s) -> wish.com (255s) -> youtube.com (244s) -> youtube.com (369s) -> youtube.com (83s) -> ebay.de (22s) -> youtube.com (190s) -> youtube.com (215s) -> youtube.com (180s) -> youtube.com (180s) -> youtube.com (219s) -> youtube.com (184s) -> youtube.com (185s) -> youtube.com (347s) -> amazon.de (1s)',\n",
       "  'Wednesday 20:4, Visits: spiegel.de (1s) -> facebook.com (16s) -> schulterglatze.de (10s) -> diesiedleronline.de (58s) -> schulterglatze.de (16s) -> diesiedleronline.de (10s) -> facebook.com (6s) -> diesiedleronline.de (736s) -> schulterglatze.de (4s) -> facebook.com (192s) -> diesiedleronline.de (6s) -> facebook.com (2s) -> facebook.com (14s) -> schulterglatze.de (34s) -> facebook.com (356s) -> coord.info (56s) -> geocaching.com (136s) -> facebook.com (441s) -> facebook.com (180s) -> facebook.com (126s) -> schulterglatze.de (6s) -> facebook.com (56s) -> facebook.com (3s) -> coord.info (1s) -> geocaching.com (23s) -> amazonaws.com (44s) -> geocaching.com (38s) -> fahrrad.de (10s) -> facebook.com (810s) -> fahrrad.de (7s) -> geocaching.com (8s)',\n",
       "  'Sunday 17:45, Visits: wallstreet-online.de (14s) -> live.com (48s) -> n-tv.de (36s) -> live.com (63s) -> wallstreet-online.de (118s) -> yahoo.com (49s) -> n-tv.de (34s)',\n",
       "  'Wednesday 15:31, Visits: gmx.net (1301s) -> gmx.net (373s) -> netto-online.de (78s) -> gmx.net (22s) -> deref-gmx.net (10s) -> trendfrage.de (494s) -> gmx.net (28s) -> deref-gmx.net (4s) -> gmx.net (10s) -> deref-gmx.net (8s) -> cashsparen.de (2s) -> nagabrokers.com (19s) -> gmx.net (19s) -> deref-gmx.net (8s) -> cashsparen.de (46s) -> gmx.net (8s) -> deref-gmx.net (6s) -> gmx.net (20s) -> deref-gmx.net (4s) -> cashsparen.de (2s) -> aliexpress.com (10s) -> gmx.net (16s) -> deref-gmx.net (4s) -> cashsparen.de (2s) -> michverlieben.de (20s) -> gmx.net (12s) -> deref-gmx.net (42s) -> trustedshops.com (10s) -> gmx.net (68s) -> deref-gmx.net (12s) -> gmx.net (12s)',\n",
       "  'Sunday 22:24, Visits: facebook.com (25s) -> google.com (2s) -> ebay.de (12s) -> facebook.com (203s)',\n",
       "  'Saturday 19:41, Visits: whatsapp.com (26s) -> whatsapp.com (2s) -> facebook.com (4s) -> reddit.com (2s) -> reddit.com (4s) -> facebook.com (90s) -> reddit.com (2s)',\n",
       "  'Friday 17:26, Visits: facebook.com (32s) -> youtube.com (255s) -> youtube.com (238s) -> youtube.com (3s) -> facebook.com (22s) -> youtube.com (466s) -> youtube.com (36s) -> facebook.com (30s) -> youtube.com (18s) -> facebook.com (2s) -> youtube.com (40s) -> facebook.com (96s) -> youtube.com (256s) -> amazon.de (98s) -> youtube.com (458s) -> youtube.com (188s) -> amazon.de (4s) -> youtube.com (227s) -> youtube.com (101s) -> facebook.com (2s) -> youtube.com (158s) -> facebook.com (46s) -> youtube.com (498s) -> facebook.com (2s) -> youtube.com (315s) -> youtube.com (3s) -> facebook.com (20s) -> youtube.com (334s) -> youtube.com (522s) -> whatsapp.com (144s) -> youtube.com (379s) -> youtube.com (3s) -> facebook.com (319s) -> youtube.com (87s) -> whatsapp.com (2s) -> facebook.com (4s) -> whatsapp.com (8s) -> youtube.com (342s) -> whatsapp.com (60s) -> facebook.com (4s) -> youtube.com (181s) -> youtube.com (63s) -> facebook.com (12s) -> servehttp.com (34s) -> facebook.com (55s)',\n",
       "  'Saturday 14:19, Visits: facebook.com (17s) -> facebook.com (32s) -> whatsapp.com (420s) -> youtube.com (179s) -> youtube.com (7s) -> t-online.de (2s) -> youtube.com (12s) -> t-online.de (1s) -> youtube.com (2s) -> t-online.de (2s) -> youtube.com (2s) -> t-online.de (2s) -> youtube.com (50s) -> t-online.de (10s) -> youtube.com (144s) -> t-online.de (218s) -> youtube.com (839s) -> youtube.com (256s)',\n",
       "  'Wednesday 21:2, Visits: facebook.com (9s) -> google.com (4s) -> facebook.com (203s) -> facebook.com (30s) -> google.com (6s) -> google.com (26s) -> thepanelstation.com (44s) -> google.com (8s) -> gdp-group.com (12s) -> google.com (2s) -> shopperfact.com (16s) -> illuminas.com (118s) -> google.com (6s) -> facebook.com (179s) -> facebook.com (130s) -> google.com (16s) -> google.com (4s) -> google.com (28s) -> ebay.de (10s) -> google.com (4s) -> google.com (156s) -> facebook.com (189s) -> facebook.com (2s) -> google.com (103s) -> single-jungle.net (40s) -> google.com (6s) -> 2flirt.com (48s) -> google.com (12s) -> facebook.com (181s) -> facebook.com (13s) -> google.com (6s) -> google.com (2s) -> facebook.com (179s) -> facebook.com (5s) -> google.com (4s) -> facebook.com (10s) -> google.com (26s) -> ebay.de (64s) -> facebook.com (239s)',\n",
       "  'Wednesday 6:3, Visits: facebook.com (34s) -> facebook.com (129s) -> t-online.de (158s) -> gmx.net (656s) -> rp-online.de (464s) -> rp-online.de (866s) -> rp-online.de (500s) -> bild.de (716s) -> bild.de (6s) -> tvtv.de (540s) -> lbb.de (148s) -> t-online.de (2s) -> lbb.de (68s) -> gmx.net (146s) -> videlis.de (166s) -> tvnow.de (74s) -> save.tv (108s) -> vox.de (76s) -> zdf.de (205s) -> zdf.de (180s) -> zdf.de (4s)',\n",
       "  'Friday 13:56, Visits: zdf.de (469s) -> zdf.de (5s) -> zdf.de (28s) -> netto-online.de (201s)',\n",
       "  'Saturday 18:18, Visits: web.de (202s) -> web.de (354s) -> ebay-kleinanzeigen.de (14s) -> web.de (30s) -> rinderohr.de (24s) -> web.de (216s) -> rinderohr.de (26s) -> web.de (22s) -> rinderohr.de (422s) -> ebay.de (40s) -> rinderohr.de (1s) -> ebay.de (2s) -> rinderohr.de (2s) -> facebook.com (191s) -> web.de (85s) -> rinderohr.de (17s) -> web.de (104s) -> facebook.com (74s) -> google.com (10s) -> facebook.com (58s) -> google.com (202s) -> facebook.com (40s) -> rinderohr.de (32s) -> web.de (10s) -> lanzarote37.net (6s) -> facebook.com (302s) -> lanzarote37.net (6s) -> rinderohr.de (124s) -> tuifly.com (12s) -> rinderohr.de (51s) -> google.com (30s) -> facebook.com (138s) -> google.com (2s) -> facebook.com (20s) -> google.com (100s) -> rimondo.com (2s) -> google.com (8s) -> fnverlag.de (36s) -> google.com (41s) -> rimondo.com (49s) -> google.com (42s) -> rinderohr.de (34s)',\n",
       "  'Thursday 16:46, Visits: ebay.de (2s) -> ebay.de (1s) -> thefreedictionary.com (16s) -> wortbedeutung.info (1s) -> ebay.de (1s) -> wortbedeutung.info (2s) -> ebay.de (1s) -> wortbedeutung.info (2s) -> ebay.de (1s) -> wortbedeutung.info (2s) -> ebay.de (303s) -> ebay.de (50s) -> duckduckgo.com (8s) -> wikipedia.org (156s) -> duckduckgo.com (8s) -> nick.de (28s) -> duckduckgo.com (6s) -> nick.de (10s) -> duckduckgo.com (534s) -> youtube.com (290s) -> youtube.com (4s)',\n",
       "  'Friday 8:47, Visits: bing.com (252s) -> facebook.com (6s) -> bing.com (74s) -> 1und1.de (572s) -> gameduell.de (225s) -> gameduell.de (401s) -> 1und1.de (14s) -> 1und1.de (233s) -> gameduell.de (4s)',\n",
       "  'Monday 15:45, Visits: youtube.com (12s) -> justnetwork.eu (10s) -> tz.de (62s) -> youtube.com (198s) -> youtube.com (37s) -> youtube.com (202s)',\n",
       "  'Monday 17:10, Visits: lolesports.com (3s) -> whatsapp.com (12s) -> lolesports.com (181s) -> lolesports.com (13s) -> whatsapp.com (34s) -> 9gag.com (4s) -> lolesports.com (86s) -> whatsapp.com (24s) -> lolesports.com (6s) -> 9gag.com (50s) -> whatsapp.com (14s) -> lolesports.com (72s) -> 9gag.com (280s) -> whatsapp.com (18s) -> 9gag.com (218s) -> whatsapp.com (112s) -> google.com (4s) -> gannikus.com (130s) -> whatsapp.com (172s) -> gannikus.com (44s) -> google.com (4s) -> 9gag.com (94s) -> whatsapp.com (84s) -> 9gag.com (118s) -> whatsapp.com (96s) -> 9gag.com (56s) -> youtube.com (6s) -> whatsapp.com (34s) -> youtube.com (54s) -> whatsapp.com (58s) -> youtube.com (95s) -> whatsapp.com (4s) -> lolesports.com (8s) -> spotify.com (10s) -> whatsapp.com (40s) -> youtube.com (11s) -> spotify.com (47s) -> whatsapp.com (84s) -> spotify.com (49s) -> whatsapp.com (24s) -> whatsapp.com (18s) -> whatsapp.com (12s) -> whatsapp.com (2s) -> whatsapp.com (4s) -> whatsapp.com (2s) -> whatsapp.com (24s) -> whatsapp.com (6s) -> whatsapp.com (142s) -> whatsapp.com (14s) -> spotify.com (8s) -> whatsapp.com (131s) -> youtube.com (2s) -> facebook.com (269s) -> whatsapp.com (2s) -> facebook.com (3s) -> youtube.com (2s) -> youtube.com (20s) -> whatsapp.com (2s) -> whatsapp.com (12s) -> whatsapp.com (16s) -> whatsapp.com (32s) -> spotify.com (1s) -> spotify.com (46s) -> whatsapp.com (138s) -> whatsapp.com (6s) -> whatsapp.com (76s) -> whatsapp.com (22s) -> whatsapp.com (4s) -> whatsapp.com (4s) -> youtube.com (1s) -> youtube.com (2s) -> whatsapp.com (18s) -> whatsapp.com (4s) -> facebook.com (8s) -> facebook.com (142s) -> facebook.com (2s) -> facebook.com (2s) -> whatsapp.com (6s) -> whatsapp.com (6s) -> whatsapp.com (85s) -> facebook.com (1s) -> youtube.com (2s) -> youtube.com (10s) -> whatsapp.com (4s) -> whatsapp.com (28s) -> whatsapp.com (6s) -> facebook.com (93s) -> whatsapp.com (10s) -> lolesports.com (2s) -> whatsapp.com (40s) -> facebook.com (140s) -> whatsapp.com (412s) -> facebook.com (44s) -> youtube.com (18s) -> lolesports.com (10s) -> youtube.com (2s) -> whatsapp.com (26s) -> facebook.com (31s) -> youtube.com (6s) -> whatsapp.com (20s) -> youtube.com (4s) -> youtube.com (2s) -> whatsapp.com (121s) -> whatsapp.com (2s) -> whatsapp.com (14s) -> whatsapp.com (16s) -> whatsapp.com (80s) -> whatsapp.com (40s) -> youtube.com (5s) -> whatsapp.com (8s) -> whatsapp.com (30s) -> whatsapp.com (6s) -> whatsapp.com (23s) -> youtube.com (3s) -> whatsapp.com (28s) -> youtube.com (2s) -> whatsapp.com (13s) -> whatsapp.com (40s) -> whatsapp.com (22s) -> whatsapp.com (28s) -> youtube.com (8s) -> facebook.com (14s) -> youtube.com (179s) -> youtube.com (7s) -> whatsapp.com (114s) -> whatsapp.com (120s) -> youtube.com (30s) -> youtube.com (26s) -> facebook.com (43s) -> youtube.com (170s) -> youtube.com (19s) -> netflix.com (207s) -> netflix.com (173s) -> facebook.com (14s) -> netflix.com (140s) -> facebook.com (42s) -> youtube.com (2s) -> netflix.com (170s) -> netflix.com (179s) -> netflix.com (222s) -> netflix.com (216s) -> netflix.com (252s) -> netflix.com (9s) -> facebook.com (20s) -> netflix.com (12s) -> facebook.com (40s) -> netflix.com (2s) -> facebook.com (70s) -> youtube.com (2s) -> netflix.com (178s) -> 9gag.com (26s) -> netflix.com (984s) -> pornhub.com (130s) -> netflix.com (102s) -> twitch.tv (2s) -> netflix.com (13s)',\n",
       "  'Tuesday 16:48, Visits: facebook.com (58s) -> merkur.de (79s) -> facebook.com (35s) -> bobolike.com (54s) -> google.de (22s) -> merkur.de (4s) -> google.de (2s) -> facebook.com (182s) -> google.de (616s) -> facebook.com (34s) -> google.de (26s) -> schube.de (89s) -> facebook.com (1s) -> tumblr.com (36s) -> facebook.com (2s) -> tumblr.com (8s) -> facebook.com (40s) -> google.de (22s) -> computerbild.de (454s) -> google.de (18s) -> facebook.com (4s) -> facebook.com (4s) -> google.de (200s) -> computerbild.de (202s) -> schube.de (2s) -> facebook.com (36s) -> medion.de (102s) -> medion.com (336s) -> medion.com (4s) -> aldi-liefert.de (350s) -> medion.com (126s) -> medion.com (6s) -> schube.de (2s) -> facebook.com (10s) -> google.de (174s) -> pcspezialist.de (12s) -> pcspezialist.de (50s) -> google.de (18s) -> pcspezialist.de (2s)',\n",
       "  'Monday 5:56, Visits: startseite24.net (25s) -> gmx.net (82s) -> meine-vrbank.de (30s) -> foerde-sparkasse.de (8s) -> gmx.net (213s) -> gmx.net (4s) -> deref-gmx.net (16s) -> markt.de (40s) -> gmx.net (22s) -> deref-gmx.net (16s) -> markt.de (11s) -> gmx.net (2s) -> meine-vrbank.de (2s) -> meinfernbus.de (94s) -> flixbus.de (56s) -> gmx.net (240s) -> gmx.net (42s) -> google.de (68s) -> schulferien.org (24s) -> google.de (6s) -> mehr-schulferien.de (60s) -> gmx.net (194s) -> gmx.net (2s) -> gmx.net (181s) -> gmx.net (47s) -> foerde-sparkasse.de (22s) -> gmx.net (8s) -> foerde-sparkasse.de (12s) -> gmx.net (1s) -> foerde-sparkasse.de (2s) -> gmx.net (1s) -> foerde-sparkasse.de (1s) -> gmx.net (2s) -> foerde-sparkasse.de (15s) -> meine-vrbank.de (32s) -> ebay.de (32s) -> gmx.net (38s)',\n",
       "  'Wednesday 21:45, Visits: sky.de (24s) -> sky.de (4s) -> rewe.de (88s) -> sky.de (12s)',\n",
       "  'Monday 16:10, Visits: 7tv.de (28s) -> 7tv.de (299s) -> 7tv.de (188s) -> 7tv.de (514s) -> 7tv.de (430s) -> 7tv.de (902s) -> 7tv.de (157s)',\n",
       "  'Thursday 20:39, Visits: facebook.com (9s) -> google.com (2s) -> ebay.de (16s) -> google.com (6s) -> facebook.com (181s) -> facebook.com (7s) -> google.com (10s) -> google.com (2s) -> nuechtern-mafo.de (34s) -> google.com (2s) -> cmix.com (2s) -> google.com (2s) -> ebay.de (8s) -> facebook.com (179s) -> facebook.com (23s) -> google.com (4s) -> wish.com (76s) -> google.com (310s) -> ebay.de (12s) -> facebook.com (181s) -> facebook.com (1s) -> ebay.de (77s) -> facebook.com (183s) -> facebook.com (206s) -> facebook.com (19s) -> google.com (259s) -> ebay.de (3s) -> google.com (2s) -> facebook.com (181s) -> facebook.com (11s) -> ebay.de (10s) -> google.com (2s) -> facebook.com (109s)',\n",
       "  'Friday 19:53, Visits: twitter.com (374s) -> twitter.com (12s) -> gmx.net (10s) -> consolewars.de (108s) -> twitter.com (48s) -> google.com (4s) -> games-news.de (44s) -> pcgames.de (42s) -> google.com (14s) -> amazon.de (46s) -> twitter.com (66s) -> pcgames.de (48s) -> twitter.com (4s) -> amazon.de (8s) -> google.com (36s) -> mrantifun.net (1s)',\n",
       "  'Wednesday 13:22, Visits: facebook.com (481s) -> facebook.com (64s) -> getpocket.com (108s) -> qvc.de (12s) -> facebook.com (12s) -> deinkinoticket.de (263s) -> cinestar.de (56s) -> web.de (12s) -> deinkinoticket.de (46s) -> facebook.com (106s) -> facebook.com (46s) -> deinkinoticket.de (76s) -> cinestar.de (22s)',\n",
       "  'Monday 16:49, Visits: google.com (2s) -> google.de (4s) -> deutschlandfunk.de (34s) -> google.de (4s) -> deutschlandfunk.de (20s) -> google.de (4s) -> deutschlandfunk.de (20s) -> youtube.com (2s) -> deutschlandfunk.de (4s) -> youtube.com (2s) -> deutschlandfunk.de (22s) -> youtube.com (6s) -> deutschlandfunk.de (16s) -> youtube.com (10s) -> deutschlandfunk.de (208s) -> youtube.com (10s) -> deutschlandfunk.de (88s) -> youtube.com (460s) -> youtube.com (10s) -> google.de (24s) -> wikipedia.org (12s) -> youtube.com (2s) -> wikipedia.org (54s) -> youtube.com (112s) -> wikipedia.org (532s) -> youtube.com (28s) -> wikipedia.org (2s) -> google.de (28s) -> youtube.com (182s) -> youtube.com (190s) -> youtube.com (396s) -> youtube.com (996s) -> youtube.com (20s) -> facebook.com (78s) -> youtube.com (72s) -> facebook.com (334s) -> youtube.com (339s) -> youtube.com (56s) -> youtube.com (11s) -> facebook.com (28s) -> youtube.com (42s) -> google.de (8s) -> ausbildung.de (226s) -> youtube.com (236s) -> facebook.com (50s) -> wiwo.de (44s) -> facebook.com (16s) -> wiwo.de (724s) -> youtube.com (2s) -> google.de (2s) -> zdf.de (8s) -> youtube.com (30s) -> zdf.de (130s) -> facebook.com (8s) -> google.de (18s) -> zdf.de (187s)'],\n",
       " 'Cluster 2': ['Tuesday 17:47, Visits: youtube.com (29s) -> youtube.com (365s) -> youtube.com (185s) -> youtube.com (226s) -> live.com (3s) -> youtube.com (3s) -> youtube.com (10s) -> live.com (28s)',\n",
       "  'Tuesday 12:58, Visits: streamcloud.eu (147s) -> streamcloud.eu (92s) -> streamcloud.eu (252s) -> streamcloud.eu (76s) -> streamcloud.eu (1s) -> cobalten.com (2s) -> bet365.com (123s) -> streamcloud.eu (2s) -> cobalten.com (2s) -> bet365.com (87s) -> streamcloud.eu (110s)',\n",
       "  'Saturday 23:47, Visits: netflix.com (50s) -> netflix.com (324s) -> netflix.com (185s)',\n",
       "  'Wednesday 15:39, Visits: ddl.me (154s) -> ddl.me (71s) -> ddl.me (195s) -> ddl.me (200s) -> ddl.me (62s) -> facebook.com (211s) -> youtube.com (560s) -> facebook.com (56s) -> ddl.me (16s) -> streamcloud.eu (12s) -> cdnondemand.org (205s) -> streamcloud.eu (3s) -> ddl.me (44s) -> streamcloud.eu (173s)',\n",
       "  'Thursday 13:30, Visits: bs.to (6s) -> bs.to (183s) -> bs.to (5s)',\n",
       "  'Wednesday 18:27, Visits: youtube.com (179s)',\n",
       "  'Wednesday 7:52, Visits: youtube.com (169s) -> youtube.com (28s)',\n",
       "  'Sunday 14:10, Visits: amazon.de (26s) -> amazon.de (25s) -> google.com (2s)',\n",
       "  'Friday 13:4, Visits: youtube.com (440s) -> youtube.com (186s) -> youtube.com (203s)',\n",
       "  'Monday 10:6, Visits: youtube.com (19s) -> rtlnow.de (2s) -> tvnow.de (24s) -> youtube.com (220s) -> youtube.com (5s) -> youtube.com (61s) -> youtube.de (496s) -> youtube.com (190s) -> youtube.com (186s) -> youtube.com (379s)',\n",
       "  'Saturday 18:43, Visits: google.com (134s) -> prooptik.de (2s) -> ernstings-family.de (28s) -> prooptik.de (84s) -> frankenstolz.de (64s) -> ernstings-family.de (2s) -> frankenstolz.de (36s) -> medikamente-per-klick.de (4s) -> google.com (2s) -> bonprix.de (2s) -> xxnightmaremoonxx.de (70s) -> netflix.com (32s) -> google.com (8s) -> netflix.com (189s) -> wikipedia.org (7s) -> frankenstolz.de (2s) -> netflix.com (279s) -> netflix.com (91s) -> netflix.com (294s) -> netflix.com (182s) -> netflix.com (255s) -> netflix.com (223s) -> netflix.com (38s)',\n",
       "  'Wednesday 10:18, Visits: amazon.de (186s) -> amazon.de (222s) -> amazon.de (236s) -> amazon.de (132s) -> amazon.de (182s) -> amazon.de (182s) -> amazon.de (186s) -> amazon.de (184s) -> amazon.de (182s)',\n",
       "  'Saturday 22:30, Visits: ddl.me (122s) -> ddl.me (365s) -> facebook.com (298s) -> ddl.me (229s) -> ddl.me (234s) -> ddl.me (202s) -> ddl.me (205s)',\n",
       "  'Tuesday 6:22, Visits: zdf.de (222s) -> zdf.de (164s) -> zdf.de (18s) -> insightexpressai.com (15s) -> plixad.de (12s) -> zdf.de (183s)',\n",
       "  'Sunday 12:43, Visits: paypal.com (82s) -> paypal.com (5s)',\n",
       "  'Friday 22:8, Visits: youtube.com (7s) -> gaymaletube.com (18s) -> youtube.com (179s)',\n",
       "  'Monday 20:56, Visits: sm.de (249s) -> sm.de (2048s) -> youtube.com (26s)',\n",
       "  'Thursday 11:30, Visits: youtube.com (106s)',\n",
       "  'Friday 13:12, Visits: youtube.com (633s) -> youtube.com (15s)',\n",
       "  'Tuesday 14:56, Visits: youtube.de (20s) -> youtube.com (181s) -> youtube.com (360s) -> youtube.com (69s) -> google.de (238s) -> hm.com (1136s) -> hm.com (709s) -> youtube.com (180s) -> youtube.com (298s) -> youtube.com (459s) -> youtube.com (185s) -> youtube.com (43s) -> gaymaletube.com (2s) -> google.de (195s) -> smarticular.net (183s) -> youtube.com (180s) -> youtube.com (497s) -> youtube.com (780s) -> netflix.com (631s) -> netflix.com (181s) -> google.de (8s) -> chefkoch.de (245s) -> chefkoch.de (19s) -> netflix.com (183s) -> netflix.com (200s) -> chefkoch.de (1s) -> netflix.com (751s) -> netflix.com (365s) -> netflix.com (180s) -> netflix.com (737s) -> netflix.com (153s) -> netflix.com (187s) -> netflix.com (2s) -> chefkoch.de (2s) -> youtube.com (204s) -> google.de (12s) -> google.com (80s) -> ebay.de (2s) -> google.com (42s) -> ebay.de (8s) -> google.com (16s) -> ebay.de (16s) -> google.com (2s) -> paypal.com (4s) -> google.com (80s) -> youtube.com (283s) -> youtube.com (7s) -> google.de (50s) -> google.com (20s) -> paypal.com (56s) -> google.com (32s) -> paypal.com (76s) -> google.com (24s) -> youtube.com (181s)',\n",
       "  'Thursday 6:31, Visits: zdf.de (14s) -> zdf.de (51s)',\n",
       "  'Saturday 18:40, Visits: zdf.de (179s)',\n",
       "  'Wednesday 19:20, Visits: youtube.com (5s) -> amazon.de (792s) -> youtube.com (235s) -> youtube.com (565s) -> youtube.com (68s) -> xxnightmaremoonxx.de (62s) -> rossmann.de (72s) -> dm.de (328s) -> sparkasse-mittelthueringen.de (578s) -> amazon.de (124s) -> ebay-kleinanzeigen.de (302s) -> mamikreisel.de (14s) -> kleiderkreisel.de (8s) -> ebay-kleinanzeigen.de (4s) -> xxnightmaremoonxx.de (4s) -> mozilla.org (10s)',\n",
       "  'Wednesday 2:55, Visits: youtube.com (1s) -> youtube.com (6s)',\n",
       "  'Thursday 18:14, Visits: youtube.com (9s) -> youtube.com (186s) -> youtube.com (1388s) -> youtube.com (566s) -> google.de (2s) -> youtube.com (10s) -> google.de (203s) -> youtube.com (817s) -> youtube.com (698s) -> youtube.com (1805s) -> youtube.com (468s) -> youtube.com (345s) -> youtube.com (451s) -> youtube.com (280s) -> youtube.com (184s)',\n",
       "  'Monday 11:40, Visits: youtube.com (29s) -> youtube.com (24s) -> youtube.com (14s)',\n",
       "  'Monday 0:0, Visits: youtube.com (180s) -> youtube.com (180s)',\n",
       "  'Friday 5:25, Visits: youtube.de (274s) -> youtube.com (566s) -> youtube.com (397s) -> youtube.com (185s) -> youtube.com (187s) -> youtube.com (181s) -> youtube.com (180s) -> youtube.com (7s) -> rtlnow.de (4s) -> tvnow.de (26s) -> youtube.com (10s) -> gogle.de (14s) -> google.de (6s) -> tvnow.de (6s) -> google.de (10s) -> dailymotion.com (326s) -> dailymotion.com (188s) -> dailymotion.com (2s) -> google.de (8s) -> rtl2.de (34s) -> google.de (10s) -> rtlnow.de (2s) -> tvnow.de (74s) -> rtlnow.de (2s) -> tvnow.de (22s) -> google.de (16s) -> dyson.de (16s) -> google.de (308s) -> leuchtenzentrale.de (191s) -> leuchtenzentrale.de (180s) -> leuchtenzentrale.de (51s) -> rtlnow.de (2s) -> tvnow.de (179s)',\n",
       "  'Friday 14:40, Visits: youtube.com (601s) -> youtube.com (542s) -> youtube.com (208s) -> youtube.com (691s) -> youtube.com (688s) -> youtube.com (457s) -> youtube.com (6s) -> youtube.com (37s) -> gaymaletube.com (2s) -> gotgayporn.com (46s) -> gaymaletube.com (2s) -> spycock.com (36s) -> gaymaletube.com (6s) -> txxx.com (224s) -> youtube.com (188s) -> youtube.com (190s) -> youtube.com (192s) -> youtube.com (186s) -> youtube.com (181s) -> youtube.com (195s) -> youtube.com (179s) -> youtube.com (545s) -> youtube.com (15s) -> youtube.com (17s) -> google.de (20s) -> focus.de (90s) -> google.de (8s) -> youtube.com (10s) -> chefkoch.de (231s) -> chefkoch.de (5s) -> youtube.com (368s) -> youtube.com (181s) -> youtube.com (198s) -> youtube.com (1031s) -> youtube.com (251s) -> youtube.com (696s) -> youtube.com (196s) -> youtube.com (181s) -> youtube.com (191s) -> youtube.com (482s) -> youtube.com (416s) -> youtube.com (259s)',\n",
       "  'Saturday 22:10, Visits: google.com (254s) -> youtube.com (252s) -> youtube.com (192s) -> youtube.com (423s)',\n",
       "  'Monday 7:14, Visits: wkp.io (22s) -> wkp.io (338s) -> wkp.io (54s) -> google.de (20s) -> netdoktor.de (88s)',\n",
       "  'Tuesday 17:9, Visits: youtube.com (31s) -> google.com (56s) -> youtube.com (183s) -> youtube.com (9s) -> google.de (4s) -> novalnet.de (22s) -> sparkasse-pforzheim-calw.de (2s) -> google.de (2s) -> giga.de (20s) -> msftconnecttest.com (2s) -> google.de (4s) -> volders.de (8s) -> google.de (2s) -> kanzlei-schuster.de (20s) -> google.de (8s) -> verbraucherschutz.de (80s) -> google.de (8s) -> kanzlei-hufschmid.de (140s) -> bahn.de (12s) -> google.de (48s) -> kanzlei-hufschmid.de (64s) -> youtube.com (254s) -> youtube.com (309s)',\n",
       "  'Saturday 23:37, Visits: youtube.com (209s)',\n",
       "  'Monday 22:40, Visits: bing.com (42s) -> webuntis.com (80s) -> bing.com (8s) -> imdb.com (24s) -> bing.com (427s) -> rwf-fos.de (235s) -> rwf-fos.de (179s) -> rwf-fos.de (183s)',\n",
       "  'Wednesday 8:58, Visits: netflix.com (35s) -> live.com (78s) -> google.de (20s) -> barcelonamap360.com (88s)',\n",
       "  'Wednesday 19:12, Visits: startseite24.net (390s) -> netflix.com (185s)',\n",
       "  'Wednesday 20:48, Visits: facebook.com (10s) -> facebook.com (12s) -> live.com (39s) -> relink.to (20s) -> jdownloader.org (247s) -> youtube.com (772s) -> youtube.com (200s) -> youtube.com (230s)',\n",
       "  'Sunday 8:33, Visits: startseite24.net (160s) -> youtube.com (181s)',\n",
       "  'Wednesday 22:16, Visits: travador.com (7s)',\n",
       "  'Friday 10:16, Visits: youtube.com (76s) -> youtube.com (998s) -> youtube.com (226s) -> youtube.com (529s) -> youtube.com (14s)',\n",
       "  'Wednesday 5:24, Visits: ddl.me (256s) -> ddl.me (272s)',\n",
       "  'Saturday 5:46, Visits: zdf.de (40s) -> zdf.de (10s) -> zdf.de (4s) -> zdf.de (167s)',\n",
       "  'Tuesday 18:20, Visits: netflix.com (5s) -> netflix.com (39s) -> netflix.com (205s) -> netflix.com (434s) -> netflix.com (143s) -> youtube.com (215s) -> youtube.com (195s) -> youtube.com (215s) -> youtube.com (189s) -> youtube.com (203s) -> youtube.com (189s) -> youtube.com (196s) -> youtube.com (189s) -> youtube.com (191s) -> youtube.com (183s) -> youtube.com (180s) -> youtube.com (13s) -> youtube.com (102s) -> netflix.com (183s) -> netflix.com (180s)',\n",
       "  'Monday 11:47, Visits: youtube.com (7s) -> youtube.com (2s) -> google.de (178s) -> kinguin.net (40s) -> youtube.com (439s) -> youtube.com (1009s) -> youtube.com (372s) -> youtube.com (549s) -> youtube.com (422s) -> youtube.com (5s) -> steamcommunity.com (5s) -> kickstarter.com (18s) -> youtube.com (2s) -> steamcommunity.com (17s) -> youtube.com (2s)',\n",
       "  'Tuesday 18:51, Visits: netflix.com (11s) -> netflix.com (208s) -> netflix.com (193s) -> netflix.com (310s)',\n",
       "  'Sunday 0:15, Visits: tvnow.de (102s) -> tvnow.de (75s)',\n",
       "  'Wednesday 10:48, Visits: startseite24.net (116s) -> amazon.de (201s)',\n",
       "  'Monday 20:40, Visits: youtube.com (70s) -> youtube.com (713s) -> youtube.com (948s) -> youtube.com (1422s) -> youtube.com (298s)',\n",
       "  'Monday 23:23, Visits: netflix.com (247s) -> netflix.com (182s) -> netflix.com (468s) -> netflix.com (180s) -> netflix.com (317s) -> netflix.com (26s)',\n",
       "  'Thursday 19:27, Visits: youtube.com (14s) -> youtube.com (181s) -> youtube.com (194s) -> youtube.com (33s) -> netflix.com (621s) -> netflix.com (180s) -> netflix.com (180s) -> netflix.com (449s) -> netflix.com (182s) -> netflix.com (124s)']}"
      ]
     },
     "execution_count": 39,
     "metadata": {},
     "output_type": "execute_result"
    }
   ],
   "source": [
    "from random import sample\n",
    "\n",
    "{f\"Cluster {c}\": sample(clustered_sequences[c], 50) for c in range(N_CLUSTERS)}"
   ]
  },
  {
   "cell_type": "markdown",
   "id": "12eed157-6057-4259-8f8c-40cae1b38a82",
   "metadata": {},
   "source": [
    "### Conversations with Claude 3.5 Sonnet [Concise]\n",
    "\n",
    "**Prompt**\n",
    "\n",
    "Below I have a JSON corresponding to 3 clusters of users and a sample of 20 sequences of browsing history for each user cluster. Each sequence has the form \"DAY TIME site1 (duration1) -> site2 (duration2) -> ...\". Give me a short, single sentence description and 3 keywords of what each cluster might represent by looking carefully at the sampled sequences."
   ]
  },
  {
   "cell_type": "markdown",
   "id": "ecd0c47b-ef23-4724-bd9a-229bd1d4a67e",
   "metadata": {},
   "source": [
    "**Cluster 0**\n",
    "\n",
    "- Task-oriented users focused on practical activities like online shopping, banking, job searches and email, with shorter sessions across multiple utility sites.\n",
    "- Daily web browsers primarily using search engines, email services, and news sites with relatively short session durations.\n",
    "- Users primarily accessing banking sites, dating platforms, and news portals with relatively long sessions and structured browsing patterns.\n",
    "- General-purpose internet users with mixed browsing across banking, shopping, news, and adult sites, showing less focused usage patterns.\n",
    "\n",
    "Keywords:\n",
    "- utilitarian, transactional, productivity\n",
    "- utility, email, news\n",
    "- banking, dating, professional\n",
    "- diverse, transactional, casual"
   ]
  },
  {
   "cell_type": "markdown",
   "id": "cca71185-925e-4f68-b916-32aaa0682de9",
   "metadata": {},
   "source": [
    "**Cluster 1**\n",
    "\n",
    "- Heavy social media and entertainment users spending long periods on platforms like Facebook, YouTube, and gaming sites, with frequent switching between them.\n",
    "- Heavy social media and e-commerce users spending long periods on Facebook, gaming sites, and online shopping platforms.\n",
    "- Users showing mixed entertainment and social media usage with frequent switching between platforms and medium-length sessions, often involving shopping sites.\n",
    "- Heavy social media and gaming users, with extended sessions on Facebook, gaming sites (like sfgame.net), and frequent switching between entertainment platforms.\n",
    "\n",
    "Keywords:\n",
    "- social, entertainment, multitasking\n",
    "- social, shopping, gaming\n",
    "- social-media, shopping, casual-browsing\n",
    "- social, gaming, interactive"
   ]
  },
  {
   "cell_type": "markdown",
   "id": "0663f8a1-641b-43a6-abb4-cd32ba71a9c0",
   "metadata": {},
   "source": [
    "**Cluster 2**\n",
    "\n",
    "- Media consumption focused users with long, concentrated sessions on streaming platforms like Netflix and YouTube, showing less site-switching behavior.\n",
    "- Entertainment-focused users with extended sessions on streaming platforms like YouTube, Netflix, and file-sharing sites.\n",
    "- Users heavily focused on streaming and video content with long uninterrupted sessions, frequently accessing media-hosting and video streaming platforms.\n",
    "- Entertainment-focused users with long sessions on streaming platforms (YouTube, Netflix) and minimal site switching.\n",
    "\n",
    "Keywords:\n",
    "- streaming, binge-watching, focused\n",
    "- streaming, entertainment, binge-watching\n",
    "- streaming, video, entertainment\n",
    "- streaming, passive, binge-watching"
   ]
  },
  {
   "cell_type": "code",
   "execution_count": null,
   "id": "64a71ee3-537f-4032-b9ea-b1f907ab8c7e",
   "metadata": {},
   "outputs": [],
   "source": []
  }
 ],
 "metadata": {
  "kernelspec": {
   "display_name": "Python (cybergpt-datasets)",
   "language": "python",
   "name": "cybergpt-datasets"
  },
  "language_info": {
   "codemirror_mode": {
    "name": "ipython",
    "version": 3
   },
   "file_extension": ".py",
   "mimetype": "text/x-python",
   "name": "python",
   "nbconvert_exporter": "python",
   "pygments_lexer": "ipython3",
   "version": "3.12.7"
  }
 },
 "nbformat": 4,
 "nbformat_minor": 5
}
